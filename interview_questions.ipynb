{
 "cells": [
  {
   "cell_type": "code",
   "execution_count": 1,
   "metadata": {},
   "outputs": [],
   "source": [
    "import pandas as pd\n",
    "import numpy as np"
   ]
  },
  {
   "cell_type": "code",
   "execution_count": 38,
   "metadata": {},
   "outputs": [],
   "source": [
    "# Fizz Buzz Function\n",
    "def fizzbuzz():    \n",
    "    for number in range(1, 101):\n",
    "        if number % 5 == 0 & number % 3 == 0:\n",
    "            print('FizzBuzz')\n",
    "        elif number % 5 == 0:\n",
    "            print('Buzz')\n",
    "        elif number % 3 == 0:\n",
    "            print('Fizz')\n",
    "        else:\n",
    "            print(number)\n",
    "            \n",
    "# fizzbuzz()"
   ]
  },
  {
   "cell_type": "code",
   "execution_count": 77,
   "metadata": {},
   "outputs": [],
   "source": [
    "# %time fizzbuzz()"
   ]
  },
  {
   "cell_type": "code",
   "execution_count": 78,
   "metadata": {},
   "outputs": [
    {
     "name": "stdout",
     "output_type": "stream",
     "text": [
      "0\n",
      "1\n",
      "1\n",
      "2\n",
      "3\n",
      "5\n",
      "8\n",
      "13\n",
      "21\n",
      "34\n"
     ]
    }
   ],
   "source": [
    "# Fibonacci Sequence\n",
    "# a, b = 0, 1\n",
    "a = 0\n",
    "b = 1\n",
    "\n",
    "for i in range(0,10):\n",
    "    print(a)\n",
    "    a, b = b, a + b\n",
    "#     a = b\n",
    "#     b = a + b"
   ]
  },
  {
   "cell_type": "code",
   "execution_count": 62,
   "metadata": {},
   "outputs": [
    {
     "name": "stdout",
     "output_type": "stream",
     "text": [
      "13.9 ns ± 0.634 ns per loop (mean ± std. dev. of 7 runs, 100000000 loops each)\n",
      "9\n",
      "10\n"
     ]
    }
   ],
   "source": [
    "\n",
    "# while loop example\n",
    "%timeit i = 1\n",
    "while i <=10:\n",
    "    print(i)\n",
    "    i += 1"
   ]
  },
  {
   "cell_type": "code",
   "execution_count": 27,
   "metadata": {},
   "outputs": [],
   "source": [
    "# conditionals\n",
    "def number_comparison(a,b):\n",
    "    if a < b:\n",
    "        print(\"{} is less than {}\".format(a,b))\n",
    "    elif a == b:\n",
    "        print(\"{} is equal to {}\".format(a,b))\n",
    "    else:\n",
    "        print(\"{} is greater than {}\".format(a,b))"
   ]
  },
  {
   "cell_type": "code",
   "execution_count": 31,
   "metadata": {},
   "outputs": [
    {
     "name": "stdout",
     "output_type": "stream",
     "text": [
      "3 is greater than 2\n"
     ]
    }
   ],
   "source": [
    "number_comparison(3,2)"
   ]
  },
  {
   "cell_type": "code",
   "execution_count": 36,
   "metadata": {},
   "outputs": [
    {
     "name": "stdout",
     "output_type": "stream",
     "text": [
      "algebra-ii-m4-topic-c-lesson-12-teacher.pdf\n",
      "Preparing for Data Science Interviews - Towards Data Science.pdf\n",
      "Jeff Hutchins Resume dec 2019.pdf\n",
      "Jury Duty Letter for Jeffrey Hutchins.pdf\n",
      "Data Science 1x1 - Bayes Cohort (1).pdf\n",
      "Justin Tobler - USAA.pdf\n",
      "Jeff Hutchins Resume.pdf\n",
      "How to Succeed at Codeup - Data Science.pdf\n",
      "Business Cards.pdf\n",
      "honeywellmonthlyenergyreportexamplepdf.pdf\n",
      "Jeff_Hutchins_pdf_Resume.pdf\n",
      "Jeff Hutchins - Resume.pdf\n",
      "Jeff Hutchins Resume 2019.pdf\n"
     ]
    }
   ],
   "source": [
    "# goes into given directory and prints out given file type\n",
    "\n",
    "import os, glob\n",
    "\n",
    "os.chdir('/Users/jiffy/Downloads')\n",
    "for file in glob.glob('*.pdf'):\n",
    "    print(file)"
   ]
  },
  {
   "cell_type": "code",
   "execution_count": 82,
   "metadata": {},
   "outputs": [
    {
     "name": "stdout",
     "output_type": "stream",
     "text": [
      "10\n",
      "20\n",
      "30\n",
      "40\n",
      "50\n"
     ]
    }
   ],
   "source": [
    "# Lists\n",
    "my_list = [10,20,30,40,50]\n",
    "\n",
    "for i in my_list:\n",
    "    print(i)"
   ]
  },
  {
   "cell_type": "code",
   "execution_count": 84,
   "metadata": {},
   "outputs": [
    {
     "name": "stdout",
     "output_type": "stream",
     "text": [
      "1\n",
      "2\n",
      "3\n",
      "4\n",
      "5\n",
      "6\n",
      "7\n",
      "8\n",
      "9\n",
      "10\n"
     ]
    }
   ],
   "source": [
    "my_tup = (1,2,3,4,5,6,7,8,9,10)\n",
    "for i in my_tup:\n",
    "    print(i)"
   ]
  },
  {
   "cell_type": "code",
   "execution_count": 91,
   "metadata": {},
   "outputs": [
    {
     "name": "stdout",
     "output_type": "stream",
     "text": [
      "name Bronx\n",
      "age 2\n",
      "occupation Corey's Dog\n"
     ]
    }
   ],
   "source": [
    "my_dict = {'name': 'Bronx', 'age': '2', 'occupation': \"Corey's Dog\"}\n",
    "for key,val in my_dict.items():\n",
    "    print(key, val)"
   ]
  },
  {
   "cell_type": "code",
   "execution_count": 126,
   "metadata": {},
   "outputs": [
    {
     "data": {
      "text/plain": [
       "[('name', 'Bronx'), ('age', '2'), ('occupation', \"Corey's Dog\")]"
      ]
     },
     "execution_count": 126,
     "metadata": {},
     "output_type": "execute_result"
    }
   ],
   "source": [
    "list(my_dict.items())"
   ]
  },
  {
   "cell_type": "code",
   "execution_count": 131,
   "metadata": {},
   "outputs": [
    {
     "data": {
      "text/plain": [
       "dict_items([('name', 'Bronx'), ('age', '2'), ('occupation', \"Corey's Dog\")])"
      ]
     },
     "execution_count": 131,
     "metadata": {},
     "output_type": "execute_result"
    }
   ],
   "source": [
    "my_dict.items()"
   ]
  },
  {
   "cell_type": "code",
   "execution_count": 94,
   "metadata": {},
   "outputs": [
    {
     "name": "stdout",
     "output_type": "stream",
     "text": [
      "40\n",
      "10\n",
      "50\n",
      "20\n",
      "30\n"
     ]
    }
   ],
   "source": [
    "my_set = {10,20,30,40,50,10,20,30,40,50}\n",
    "for i in my_set:\n",
    "    print(i)"
   ]
  },
  {
   "cell_type": "code",
   "execution_count": 99,
   "metadata": {},
   "outputs": [
    {
     "name": "stdout",
     "output_type": "stream",
     "text": [
      "[1, 4, 9, 16, 25]\n"
     ]
    }
   ],
   "source": [
    "# List Comprehension\n",
    "# give me a list that is the square of a number of each number less than or equal to 5 in the original list \n",
    "my_list = [1,2,3,4,5,6,7,8,9,10]\n",
    "\n",
    "squares = [number*number for number in my_list if number <= 5]\n",
    "print(squares)"
   ]
  },
  {
   "cell_type": "code",
   "execution_count": 121,
   "metadata": {},
   "outputs": [
    {
     "name": "stdout",
     "output_type": "stream",
     "text": [
      "1: 0\n",
      "2: 1\n",
      "3: 1\n",
      "4: 2\n",
      "5: 3\n",
      "6: 5\n",
      "7: 8\n",
      "8: 13\n",
      "9: 21\n",
      "10: 34\n"
     ]
    }
   ],
   "source": [
    "# Generators\n",
    "\n",
    "def fibonacci(number):\n",
    "# Fibonacci Sequence\n",
    "    a, b = 0, 1\n",
    "\n",
    "    for i in range(0, number):\n",
    "        yield \"{}: {}\".format(i+1, a)\n",
    "        a,b =b, a+b\n",
    "        \n",
    "for item in fibonacci(10):\n",
    "    print(item)"
   ]
  },
  {
   "cell_type": "code",
   "execution_count": 149,
   "metadata": {},
   "outputs": [],
   "source": [
    "# Classes\n",
    "\n",
    "class person(object):\n",
    "    def __init__(self, name):\n",
    "        self.name = name\n",
    "\n",
    "    def reveal_identity(self):\n",
    "        print(\"My name is {}\".format(self.name))\n",
    "          \n",
    "# class super_hero(person):\n",
    "    "
   ]
  },
  {
   "cell_type": "code",
   "execution_count": 145,
   "metadata": {},
   "outputs": [],
   "source": [
    "corey = person('corey')"
   ]
  },
  {
   "cell_type": "code",
   "execution_count": 146,
   "metadata": {},
   "outputs": [
    {
     "name": "stdout",
     "output_type": "stream",
     "text": [
      "My name is corey\n"
     ]
    }
   ],
   "source": [
    "corey.reveal_identity()"
   ]
  },
  {
   "cell_type": "code",
   "execution_count": 151,
   "metadata": {},
   "outputs": [
    {
     "data": {
      "text/plain": [
       "[1, 4, 9, 16, 25]"
      ]
     },
     "execution_count": 151,
     "metadata": {},
     "output_type": "execute_result"
    }
   ],
   "source": [
    "# more list comprehensions\n",
    "\n",
    "my_list = [number*number for number in [1,2,3,4,5]]\n",
    "my_list"
   ]
  },
  {
   "cell_type": "code",
   "execution_count": 155,
   "metadata": {},
   "outputs": [
    {
     "name": "stdout",
     "output_type": "stream",
     "text": [
      "0 Marseille\n",
      "1 Amsterdam\n",
      "2 New York\n",
      "3 London\n"
     ]
    }
   ],
   "source": [
    "# how to use enumerate\n",
    "\n",
    "cities = ['Marseille', 'Amsterdam', 'New York', 'London']\n",
    "\n",
    "i = 0 \n",
    "for city in cities:\n",
    "    print(i, city)\n",
    "    i += 1\n",
    "    \n",
    "for i, city in enumerate(cities):\n",
    "    print(i, city)"
   ]
  },
  {
   "cell_type": "code",
   "execution_count": null,
   "metadata": {},
   "outputs": [],
   "source": []
  }
 ],
 "metadata": {
  "kernelspec": {
   "display_name": "Python 3",
   "language": "python",
   "name": "python3"
  },
  "language_info": {
   "codemirror_mode": {
    "name": "ipython",
    "version": 3
   },
   "file_extension": ".py",
   "mimetype": "text/x-python",
   "name": "python",
   "nbconvert_exporter": "python",
   "pygments_lexer": "ipython3",
   "version": "3.7.3"
  }
 },
 "nbformat": 4,
 "nbformat_minor": 2
}
