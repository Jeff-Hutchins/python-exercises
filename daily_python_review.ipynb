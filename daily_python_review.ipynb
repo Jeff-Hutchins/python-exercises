{
 "cells": [
  {
   "cell_type": "code",
   "execution_count": 1,
   "metadata": {},
   "outputs": [],
   "source": [
    "import pandas as pd\n",
    "import numpy as np"
   ]
  },
  {
   "cell_type": "code",
   "execution_count": 2,
   "metadata": {},
   "outputs": [
    {
     "name": "stdout",
     "output_type": "stream",
     "text": [
      "Bayes Cohort\n"
     ]
    }
   ],
   "source": [
    "Codeup_Data_Science = ['Bayes',]\n",
    "print(Codeup_Data_Science[0]+ ' Cohort')"
   ]
  },
  {
   "cell_type": "markdown",
   "metadata": {},
   "source": [
    "# FizzBuzz"
   ]
  },
  {
   "cell_type": "code",
   "execution_count": 3,
   "metadata": {},
   "outputs": [
    {
     "name": "stdout",
     "output_type": "stream",
     "text": [
      "1\n",
      "2\n",
      "Fizz\n",
      "4\n",
      "FizzBuzz\n",
      "Fizz\n",
      "7\n",
      "8\n",
      "Fizz\n",
      "FizzBuzz\n",
      "11\n",
      "Fizz\n",
      "13\n",
      "14\n",
      "FizzBuzz\n",
      "16\n",
      "17\n",
      "Fizz\n",
      "19\n",
      "FizzBuzz\n",
      "Fizz\n",
      "22\n",
      "23\n",
      "Fizz\n",
      "FizzBuzz\n",
      "26\n",
      "Fizz\n",
      "28\n",
      "29\n",
      "FizzBuzz\n",
      "31\n",
      "32\n",
      "Fizz\n",
      "34\n",
      "FizzBuzz\n",
      "Fizz\n",
      "37\n",
      "38\n",
      "Fizz\n",
      "FizzBuzz\n",
      "41\n",
      "Fizz\n",
      "43\n",
      "44\n",
      "FizzBuzz\n",
      "46\n",
      "47\n",
      "Fizz\n",
      "49\n",
      "FizzBuzz\n",
      "Fizz\n",
      "52\n",
      "53\n",
      "Fizz\n",
      "FizzBuzz\n",
      "56\n",
      "Fizz\n",
      "58\n",
      "59\n",
      "FizzBuzz\n",
      "61\n",
      "62\n",
      "Fizz\n",
      "64\n",
      "FizzBuzz\n",
      "Fizz\n",
      "67\n",
      "68\n",
      "Fizz\n",
      "FizzBuzz\n",
      "71\n",
      "Fizz\n",
      "73\n",
      "74\n",
      "FizzBuzz\n",
      "76\n",
      "77\n",
      "Fizz\n",
      "79\n",
      "FizzBuzz\n",
      "Fizz\n",
      "82\n",
      "83\n",
      "Fizz\n",
      "FizzBuzz\n",
      "86\n",
      "Fizz\n",
      "88\n",
      "89\n",
      "FizzBuzz\n",
      "91\n",
      "92\n",
      "Fizz\n",
      "94\n",
      "FizzBuzz\n",
      "Fizz\n",
      "97\n",
      "98\n",
      "Fizz\n",
      "FizzBuzz\n"
     ]
    }
   ],
   "source": [
    "# Fizz Buzz Function\n",
    "def fizzbuzz():    \n",
    "    for number in range(1, 101):\n",
    "        if number % 5 == 0 & number % 3 == 0:\n",
    "            print('FizzBuzz')\n",
    "        elif number % 5 == 0:\n",
    "            print('Buzz')\n",
    "        elif number % 3 == 0:\n",
    "            print('Fizz')\n",
    "        else:\n",
    "            print(number)\n",
    "            \n",
    "fizzbuzz()"
   ]
  },
  {
   "cell_type": "markdown",
   "metadata": {},
   "source": [
    "# Fibonacci"
   ]
  },
  {
   "cell_type": "code",
   "execution_count": 3,
   "metadata": {},
   "outputs": [
    {
     "name": "stdout",
     "output_type": "stream",
     "text": [
      "0\n",
      "1\n",
      "1\n",
      "2\n",
      "3\n",
      "5\n",
      "8\n",
      "13\n",
      "21\n",
      "34\n"
     ]
    }
   ],
   "source": [
    "# Fibonacci Sequence\n",
    "# a, b = 0, 1\n",
    "a = 0\n",
    "b = 1\n",
    "\n",
    "for i in range(0,10):\n",
    "    print(a)\n",
    "    a, b = b, a + b\n",
    "#     a = b\n",
    "#     b = a + b"
   ]
  },
  {
   "cell_type": "code",
   "execution_count": 34,
   "metadata": {},
   "outputs": [],
   "source": [
    "# find the nth fibonacci number.  Finds it recursively\n",
    "def fib(n):\n",
    "    if n==1 or n==2:\n",
    "        result = 1\n",
    "    else:\n",
    "        result = fib(n-1) + fib(n-2)\n",
    "    return result"
   ]
  },
  {
   "cell_type": "code",
   "execution_count": null,
   "metadata": {},
   "outputs": [],
   "source": [
    "# %timeit fib(35)"
   ]
  },
  {
   "cell_type": "code",
   "execution_count": null,
   "metadata": {},
   "outputs": [],
   "source": [
    "# %timeit fib(40)"
   ]
  },
  {
   "cell_type": "code",
   "execution_count": null,
   "metadata": {},
   "outputs": [],
   "source": [
    "# %timeit fib(1000)"
   ]
  },
  {
   "cell_type": "code",
   "execution_count": 4,
   "metadata": {},
   "outputs": [],
   "source": [
    "# refactored memoized solution for big O notation of 1\n",
    "def fib_2(n, memo):\n",
    "    if memo[n] != None:\n",
    "        return memo[n]\n",
    "    elif n==0:\n",
    "        result=0\n",
    "    elif n==1 or n==2:\n",
    "        result=1\n",
    "    else:\n",
    "        result = fib_2(n-1, memo) + fib_2(n-2, memo)\n",
    "    memo[n] = result\n",
    "    return result\n",
    "\n",
    "def fib_memo(n):\n",
    "    memo = [None] * (n + 1)\n",
    "    return fib_2(n, memo)"
   ]
  },
  {
   "cell_type": "code",
   "execution_count": 299,
   "metadata": {},
   "outputs": [
    {
     "name": "stdout",
     "output_type": "stream",
     "text": [
      "16.6 µs ± 2.27 µs per loop (mean ± std. dev. of 7 runs, 100000 loops each)\n"
     ]
    }
   ],
   "source": [
    "%timeit fib_memo(35)"
   ]
  },
  {
   "cell_type": "code",
   "execution_count": 300,
   "metadata": {},
   "outputs": [
    {
     "name": "stdout",
     "output_type": "stream",
     "text": [
      "60.5 µs ± 12.3 µs per loop (mean ± std. dev. of 7 runs, 10000 loops each)\n"
     ]
    }
   ],
   "source": [
    "%timeit fib_memo(100)"
   ]
  },
  {
   "cell_type": "code",
   "execution_count": 301,
   "metadata": {},
   "outputs": [
    {
     "name": "stdout",
     "output_type": "stream",
     "text": [
      "468 µs ± 12.9 µs per loop (mean ± std. dev. of 7 runs, 1000 loops each)\n"
     ]
    }
   ],
   "source": [
    "%timeit fib_memo(1000)"
   ]
  },
  {
   "cell_type": "code",
   "execution_count": 5,
   "metadata": {},
   "outputs": [],
   "source": [
    "# refactored with bottom up approach\n",
    "def fibonacci_bottom_up(n):\n",
    "    if n==0:\n",
    "        return 0\n",
    "    elif n==1 or n==2:\n",
    "        return 1\n",
    "    bottom_up = [None] * (n+1)\n",
    "    bottom_up[1] = 1\n",
    "    bottom_up[2] = 1\n",
    "    for i in range(3, n+1):\n",
    "        bottom_up[i] = bottom_up[i-1] + bottom_up[i-2]\n",
    "    return bottom_up[n]"
   ]
  },
  {
   "cell_type": "code",
   "execution_count": 286,
   "metadata": {},
   "outputs": [
    {
     "name": "stdout",
     "output_type": "stream",
     "text": [
      "4.86 µs ± 318 ns per loop (mean ± std. dev. of 7 runs, 100000 loops each)\n"
     ]
    }
   ],
   "source": [
    "%timeit fibonacci_bottom_up(35)"
   ]
  },
  {
   "cell_type": "code",
   "execution_count": 287,
   "metadata": {},
   "outputs": [
    {
     "name": "stdout",
     "output_type": "stream",
     "text": [
      "13.4 µs ± 712 ns per loop (mean ± std. dev. of 7 runs, 100000 loops each)\n"
     ]
    }
   ],
   "source": [
    "%timeit fibonacci_bottom_up(100)"
   ]
  },
  {
   "cell_type": "code",
   "execution_count": 288,
   "metadata": {},
   "outputs": [
    {
     "name": "stdout",
     "output_type": "stream",
     "text": [
      "190 µs ± 13.6 µs per loop (mean ± std. dev. of 7 runs, 10000 loops each)\n"
     ]
    }
   ],
   "source": [
    "%timeit fibonacci_bottom_up(1000)"
   ]
  },
  {
   "cell_type": "markdown",
   "metadata": {},
   "source": [
    "# While loops"
   ]
  },
  {
   "cell_type": "code",
   "execution_count": 6,
   "metadata": {},
   "outputs": [
    {
     "name": "stdout",
     "output_type": "stream",
     "text": [
      "18.3 ns ± 0.535 ns per loop (mean ± std. dev. of 7 runs, 100000000 loops each)\n",
      "9\n",
      "10\n"
     ]
    }
   ],
   "source": [
    "\n",
    "# while loop example\n",
    "%timeit i = 1\n",
    "while i <=10:\n",
    "    print(i)\n",
    "    i += 1"
   ]
  },
  {
   "cell_type": "markdown",
   "metadata": {},
   "source": [
    "# Conditionals"
   ]
  },
  {
   "cell_type": "code",
   "execution_count": 27,
   "metadata": {},
   "outputs": [],
   "source": [
    "# conditionals\n",
    "def number_comparison(a,b):\n",
    "    if a < b:\n",
    "        print(\"{} is less than {}\".format(a,b))\n",
    "    elif a == b:\n",
    "        print(\"{} is equal to {}\".format(a,b))\n",
    "    else:\n",
    "        print(\"{} is greater than {}\".format(a,b))"
   ]
  },
  {
   "cell_type": "code",
   "execution_count": 31,
   "metadata": {},
   "outputs": [
    {
     "name": "stdout",
     "output_type": "stream",
     "text": [
      "3 is greater than 2\n"
     ]
    }
   ],
   "source": [
    "number_comparison(3,2)"
   ]
  },
  {
   "cell_type": "markdown",
   "metadata": {},
   "source": [
    "# Use OS and GLOB libraries "
   ]
  },
  {
   "cell_type": "code",
   "execution_count": 36,
   "metadata": {},
   "outputs": [
    {
     "name": "stdout",
     "output_type": "stream",
     "text": [
      "algebra-ii-m4-topic-c-lesson-12-teacher.pdf\n",
      "Preparing for Data Science Interviews - Towards Data Science.pdf\n",
      "Jeff Hutchins Resume dec 2019.pdf\n",
      "Jury Duty Letter for Jeffrey Hutchins.pdf\n",
      "Data Science 1x1 - Bayes Cohort (1).pdf\n",
      "Justin Tobler - USAA.pdf\n",
      "Jeff Hutchins Resume.pdf\n",
      "How to Succeed at Codeup - Data Science.pdf\n",
      "Business Cards.pdf\n",
      "honeywellmonthlyenergyreportexamplepdf.pdf\n",
      "Jeff_Hutchins_pdf_Resume.pdf\n",
      "Jeff Hutchins - Resume.pdf\n",
      "Jeff Hutchins Resume 2019.pdf\n"
     ]
    }
   ],
   "source": [
    "# goes into given directory and prints out given file type\n",
    "\n",
    "import os, glob\n",
    "\n",
    "os.chdir('/Users/jiffy/Downloads')\n",
    "for file in glob.glob('*.pdf'):\n",
    "    print(file)"
   ]
  },
  {
   "cell_type": "markdown",
   "metadata": {},
   "source": [
    "# For loops"
   ]
  },
  {
   "cell_type": "code",
   "execution_count": 82,
   "metadata": {},
   "outputs": [
    {
     "name": "stdout",
     "output_type": "stream",
     "text": [
      "10\n",
      "20\n",
      "30\n",
      "40\n",
      "50\n"
     ]
    }
   ],
   "source": [
    "# Lists\n",
    "my_list = [10,20,30,40,50]\n",
    "\n",
    "for i in my_list:\n",
    "    print(i)"
   ]
  },
  {
   "cell_type": "code",
   "execution_count": 84,
   "metadata": {},
   "outputs": [
    {
     "name": "stdout",
     "output_type": "stream",
     "text": [
      "1\n",
      "2\n",
      "3\n",
      "4\n",
      "5\n",
      "6\n",
      "7\n",
      "8\n",
      "9\n",
      "10\n"
     ]
    }
   ],
   "source": [
    "my_tup = (1,2,3,4,5,6,7,8,9,10)\n",
    "for i in my_tup:\n",
    "    print(i)"
   ]
  },
  {
   "cell_type": "code",
   "execution_count": 7,
   "metadata": {},
   "outputs": [
    {
     "name": "stdout",
     "output_type": "stream",
     "text": [
      "name Bronx\n",
      "age 2\n",
      "occupation Corey's Dog\n"
     ]
    }
   ],
   "source": [
    "my_dict = {'name': 'Bronx', 'age': '2', 'occupation': \"Corey's Dog\"}\n",
    "for key,val in my_dict.items():\n",
    "    print(key, val)"
   ]
  },
  {
   "cell_type": "code",
   "execution_count": 8,
   "metadata": {},
   "outputs": [
    {
     "data": {
      "text/plain": [
       "[('name', 'Bronx'), ('age', '2'), ('occupation', \"Corey's Dog\")]"
      ]
     },
     "execution_count": 8,
     "metadata": {},
     "output_type": "execute_result"
    }
   ],
   "source": [
    "list(my_dict.items())"
   ]
  },
  {
   "cell_type": "code",
   "execution_count": 9,
   "metadata": {},
   "outputs": [
    {
     "data": {
      "text/plain": [
       "dict_items([('name', 'Bronx'), ('age', '2'), ('occupation', \"Corey's Dog\")])"
      ]
     },
     "execution_count": 9,
     "metadata": {},
     "output_type": "execute_result"
    }
   ],
   "source": [
    "my_dict.items()"
   ]
  },
  {
   "cell_type": "code",
   "execution_count": 11,
   "metadata": {},
   "outputs": [
    {
     "data": {
      "text/plain": [
       "dict_keys(['name', 'age', 'occupation'])"
      ]
     },
     "execution_count": 11,
     "metadata": {},
     "output_type": "execute_result"
    }
   ],
   "source": [
    "my_dict.keys()"
   ]
  },
  {
   "cell_type": "code",
   "execution_count": 12,
   "metadata": {},
   "outputs": [
    {
     "data": {
      "text/plain": [
       "dict_values(['Bronx', '2', \"Corey's Dog\"])"
      ]
     },
     "execution_count": 12,
     "metadata": {},
     "output_type": "execute_result"
    }
   ],
   "source": [
    "my_dict.values()"
   ]
  },
  {
   "cell_type": "code",
   "execution_count": 94,
   "metadata": {},
   "outputs": [
    {
     "name": "stdout",
     "output_type": "stream",
     "text": [
      "40\n",
      "10\n",
      "50\n",
      "20\n",
      "30\n"
     ]
    }
   ],
   "source": [
    "my_set = {10,20,30,40,50,10,20,30,40,50}\n",
    "for i in my_set:\n",
    "    print(i)"
   ]
  },
  {
   "cell_type": "markdown",
   "metadata": {},
   "source": [
    "# List Comprehensions"
   ]
  },
  {
   "cell_type": "code",
   "execution_count": 99,
   "metadata": {},
   "outputs": [
    {
     "name": "stdout",
     "output_type": "stream",
     "text": [
      "[1, 4, 9, 16, 25]\n"
     ]
    }
   ],
   "source": [
    "# List Comprehension\n",
    "# give me a list that is the square of a number of each number less than or equal to 5 in the original list \n",
    "my_list = [1,2,3,4,5,6,7,8,9,10]\n",
    "\n",
    "squares = [number*number for number in my_list if number <= 5]\n",
    "print(squares)"
   ]
  },
  {
   "cell_type": "code",
   "execution_count": 121,
   "metadata": {},
   "outputs": [
    {
     "name": "stdout",
     "output_type": "stream",
     "text": [
      "1: 0\n",
      "2: 1\n",
      "3: 1\n",
      "4: 2\n",
      "5: 3\n",
      "6: 5\n",
      "7: 8\n",
      "8: 13\n",
      "9: 21\n",
      "10: 34\n"
     ]
    }
   ],
   "source": [
    "# Generators\n",
    "\n",
    "def fibonacci(number):\n",
    "# Fibonacci Sequence\n",
    "    a, b = 0, 1\n",
    "\n",
    "    for i in range(0, number):\n",
    "        yield \"{}: {}\".format(i+1, a)\n",
    "        a,b =b, a+b\n",
    "        \n",
    "for item in fibonacci(10):\n",
    "    print(item)"
   ]
  },
  {
   "cell_type": "code",
   "execution_count": 235,
   "metadata": {},
   "outputs": [
    {
     "data": {
      "text/plain": [
       "[1, 4, 9, 16, 25]"
      ]
     },
     "execution_count": 235,
     "metadata": {},
     "output_type": "execute_result"
    }
   ],
   "source": [
    "# more list comprehensions\n",
    "\n",
    "my_list = [number*number for number in [1,2,3,4,5]]\n",
    "my_list"
   ]
  },
  {
   "cell_type": "markdown",
   "metadata": {},
   "source": [
    "# Classes"
   ]
  },
  {
   "cell_type": "code",
   "execution_count": 149,
   "metadata": {},
   "outputs": [],
   "source": [
    "# Classes\n",
    "\n",
    "class person(object):\n",
    "    def __init__(self, name):\n",
    "        self.name = name\n",
    "\n",
    "    def reveal_identity(self):\n",
    "        print(\"My name is {}\".format(self.name))\n",
    "          \n",
    "# class super_hero(person):\n",
    "    "
   ]
  },
  {
   "cell_type": "code",
   "execution_count": 145,
   "metadata": {},
   "outputs": [],
   "source": [
    "corey = person('corey')"
   ]
  },
  {
   "cell_type": "code",
   "execution_count": 146,
   "metadata": {},
   "outputs": [
    {
     "name": "stdout",
     "output_type": "stream",
     "text": [
      "My name is corey\n"
     ]
    }
   ],
   "source": [
    "corey.reveal_identity()"
   ]
  },
  {
   "cell_type": "code",
   "execution_count": 1,
   "metadata": {},
   "outputs": [
    {
     "name": "stdout",
     "output_type": "stream",
     "text": [
      "Bob Slydell is 43 years old!\n",
      "Bob Porter is 41 years old!\n",
      "\n",
      "Aging...\n",
      "\n",
      "Bob Slydell is 44 years old!\n",
      "Bob Porter is 42 years old!\n"
     ]
    }
   ],
   "source": [
    "# From CodeUp Curriculum Advanced Section\n",
    "class Person:\n",
    "    # a special method that is called when an object is created\n",
    "    def __init__(self, name, age):\n",
    "        self.name = name\n",
    "        self.age = age\n",
    "    def getinfo(self):\n",
    "        return '{} is {} years old!'.format(self.name, self.age)\n",
    "    def getolder(self):\n",
    "        self.age += 1\n",
    "\n",
    "bob1 = Person('Bob Slydell', 43)\n",
    "bob2 = Person('Bob Porter', 41)\n",
    "\n",
    "print(bob1.getinfo())\n",
    "print(bob2.getinfo())\n",
    "\n",
    "print('\\nAging...\\n')\n",
    "bob1.getolder()\n",
    "bob2.getolder()\n",
    "\n",
    "print(bob1.getinfo())\n",
    "print(bob2.getinfo())"
   ]
  },
  {
   "cell_type": "markdown",
   "metadata": {},
   "source": [
    "# Enumerate"
   ]
  },
  {
   "cell_type": "code",
   "execution_count": 161,
   "metadata": {
    "scrolled": true
   },
   "outputs": [
    {
     "name": "stdout",
     "output_type": "stream",
     "text": [
      "0 Marseille\n",
      "1 Amsterdam\n",
      "2 New York\n",
      "3 London\n"
     ]
    }
   ],
   "source": [
    "# how to use enumerate\n",
    "\n",
    "cities = ['Marseille', 'Amsterdam', 'New York', 'London']\n",
    "\n",
    "# i = 0 \n",
    "# for city in cities:\n",
    "#     print(i, city)\n",
    "#     i += 1\n",
    "    \n",
    "for i, city in enumerate(cities):\n",
    "    print(i, city)"
   ]
  },
  {
   "cell_type": "code",
   "execution_count": null,
   "metadata": {},
   "outputs": [],
   "source": []
  },
  {
   "cell_type": "markdown",
   "metadata": {},
   "source": [
    "# Zip - iterate over two lists in parallel"
   ]
  },
  {
   "cell_type": "code",
   "execution_count": 13,
   "metadata": {},
   "outputs": [
    {
     "name": "stdout",
     "output_type": "stream",
     "text": [
      "1 2\n",
      "2 4\n",
      "3 6\n"
     ]
    }
   ],
   "source": [
    "# loop through both lists at the same time\n",
    "\n",
    "x_list = [1,2,3]\n",
    "y_list = [2,4,6]\n",
    "\n",
    "# for i in range(len(x_list)):\n",
    "#     x = x_list[i]\n",
    "#     y = y_list[i]\n",
    "#     print(x,y)\n",
    "    \n",
    "for x, y in zip(x_list, y_list):\n",
    "    print(x,y)"
   ]
  },
  {
   "cell_type": "code",
   "execution_count": 14,
   "metadata": {},
   "outputs": [
    {
     "name": "stdout",
     "output_type": "stream",
     "text": [
      "0 a1 b1\n",
      "1 a2 b2\n",
      "2 a3 b3\n"
     ]
    }
   ],
   "source": [
    "# enumerate with zip\n",
    "alist = ['a1', 'a2', 'a3']\n",
    "blist = ['b1', 'b2', 'b3']\n",
    "\n",
    "for i, (a,b) in enumerate(zip(alist, blist)):\n",
    "    print(i, a, b)"
   ]
  },
  {
   "cell_type": "markdown",
   "metadata": {},
   "source": [
    "# Lambda Functions"
   ]
  },
  {
   "cell_type": "code",
   "execution_count": 184,
   "metadata": {},
   "outputs": [
    {
     "data": {
      "text/plain": [
       "['Douglas Adams',\n",
       " 'Isaac Asimov',\n",
       " 'Leigh Brackett',\n",
       " 'Ray Bradbury',\n",
       " 'Orson Scott Card',\n",
       " 'Arthur C. Clarke',\n",
       " 'Robert Heinlein',\n",
       " 'Frank Herbert',\n",
       " 'H. G. Wells']"
      ]
     },
     "execution_count": 184,
     "metadata": {},
     "output_type": "execute_result"
    }
   ],
   "source": [
    "# lambdas\n",
    "\n",
    "scifi_authors = ['Isaac Asimov', 'Ray Bradbury', 'Robert Heinlein', 'Arthur C. Clarke', 'Frank Herbert', 'Orson Scott Card', 'Douglas Adams', 'H. G. Wells', 'Leigh Brackett']\n",
    "\n",
    "# help(scifi_authors.sort)\n",
    "scifi_authors.sort(key=lambda name: name.split(\" \")[-1].lower())\n",
    "scifi_authors"
   ]
  },
  {
   "cell_type": "code",
   "execution_count": 195,
   "metadata": {},
   "outputs": [
    {
     "name": "stdout",
     "output_type": "stream",
     "text": [
      "['Douglas', 'Adams']\n",
      "['Isaac', 'Asimov']\n",
      "['Leigh', 'Brackett']\n",
      "['Ray', 'Bradbury']\n",
      "['Orson', 'Scott', 'Card']\n",
      "['Arthur', 'C.', 'Clarke']\n",
      "['Robert', 'Heinlein']\n",
      "['Frank', 'Herbert']\n",
      "['H.', 'G.', 'Wells']\n"
     ]
    }
   ],
   "source": [
    "for name in scifi_authors:\n",
    "    print(name.split(\" \"))\n",
    "    "
   ]
  },
  {
   "cell_type": "code",
   "execution_count": 217,
   "metadata": {},
   "outputs": [],
   "source": [
    "list_of_dicts = [{ \"name\" : \"Nandini\", \"age\" : 20},  \n",
    "{ \"name\" : \"Manjeet\", \"age\" : 20 }, \n",
    "{ \"name\" : \"Nikhil\" , \"age\" : 19 }] "
   ]
  },
  {
   "cell_type": "code",
   "execution_count": 226,
   "metadata": {},
   "outputs": [
    {
     "data": {
      "text/plain": [
       "[{'name': 'Nikhil', 'age': 19},\n",
       " {'name': 'Manjeet', 'age': 20},\n",
       " {'name': 'Nandini', 'age': 20}]"
      ]
     },
     "execution_count": 226,
     "metadata": {},
     "output_type": "execute_result"
    }
   ],
   "source": [
    "list_of_dicts.sort(key=lambda x: (x['age'], x['name']))\n",
    "list_of_dicts"
   ]
  },
  {
   "cell_type": "code",
   "execution_count": 4,
   "metadata": {},
   "outputs": [
    {
     "data": {
      "text/plain": [
       "[0, 1, 4, 9, 16, 25, 36, 49, 64, 81]"
      ]
     },
     "execution_count": 4,
     "metadata": {},
     "output_type": "execute_result"
    }
   ],
   "source": [
    "list(map(lambda x: x**2, range(10)))"
   ]
  },
  {
   "cell_type": "code",
   "execution_count": 7,
   "metadata": {},
   "outputs": [
    {
     "data": {
      "text/plain": [
       "[0, 1, 4, 9, 16, 25, 36, 49, 64, 81]"
      ]
     },
     "execution_count": 7,
     "metadata": {},
     "output_type": "execute_result"
    }
   ],
   "source": [
    "[x**2 for x in range(10)]"
   ]
  },
  {
   "cell_type": "code",
   "execution_count": 9,
   "metadata": {},
   "outputs": [
    {
     "data": {
      "text/plain": [
       "[(0, 0),\n",
       " (1, 1),\n",
       " (2, 4),\n",
       " (3, 9),\n",
       " (4, 16),\n",
       " (5, 25),\n",
       " (6, 36),\n",
       " (7, 49),\n",
       " (8, 64),\n",
       " (9, 81)]"
      ]
     },
     "execution_count": 9,
     "metadata": {},
     "output_type": "execute_result"
    }
   ],
   "source": [
    "[(x, x**2) for x in range(10)]"
   ]
  },
  {
   "cell_type": "code",
   "execution_count": 19,
   "metadata": {},
   "outputs": [
    {
     "data": {
      "text/plain": [
       "[1, 4, 9, 16]"
      ]
     },
     "execution_count": 19,
     "metadata": {},
     "output_type": "execute_result"
    }
   ],
   "source": [
    "numbers = [1,2,3,4]\n",
    "[num**2 for num in numbers]"
   ]
  },
  {
   "cell_type": "code",
   "execution_count": 6,
   "metadata": {},
   "outputs": [
    {
     "data": {
      "text/plain": [
       "[2, 4, 6, 8]"
      ]
     },
     "execution_count": 6,
     "metadata": {},
     "output_type": "execute_result"
    }
   ],
   "source": [
    "numbers = (1,2,3,4)\n",
    "list(map(lambda x: x + x, numbers))"
   ]
  },
  {
   "cell_type": "code",
   "execution_count": 10,
   "metadata": {},
   "outputs": [
    {
     "data": {
      "text/plain": [
       "[1, 2, 3, 4, 5, 6, 7, 8, 9]"
      ]
     },
     "execution_count": 10,
     "metadata": {},
     "output_type": "execute_result"
    }
   ],
   "source": [
    "# flatten a list using a list comprehension with two 'for loops'\n",
    "vec = [[1,2,3], [4,5,6], [7,8,9]]\n",
    "\n",
    "[number for element in vec for number in element]"
   ]
  },
  {
   "cell_type": "markdown",
   "metadata": {},
   "source": [
    "# Sorting"
   ]
  },
  {
   "cell_type": "code",
   "execution_count": 234,
   "metadata": {},
   "outputs": [
    {
     "name": "stdout",
     "output_type": "stream",
     "text": [
      "Help on method_descriptor:\n",
      "\n",
      "sort(self, /, *, key=None, reverse=False)\n",
      "    Stable sort *IN PLACE*.\n",
      "\n"
     ]
    }
   ],
   "source": [
    "help(list.sort)"
   ]
  },
  {
   "cell_type": "code",
   "execution_count": 231,
   "metadata": {},
   "outputs": [],
   "source": [
    "earth_metals = ['Beryllium', 'Magnesium', 'Calcium', 'Strontium', 'Barium', 'Radium']\n",
    "\n",
    "earth_metals.sort(reverse=True)"
   ]
  },
  {
   "cell_type": "code",
   "execution_count": 232,
   "metadata": {},
   "outputs": [
    {
     "data": {
      "text/plain": [
       "['Strontium', 'Radium', 'Magnesium', 'Calcium', 'Beryllium', 'Barium']"
      ]
     },
     "execution_count": 232,
     "metadata": {},
     "output_type": "execute_result"
    }
   ],
   "source": [
    "earth_metals"
   ]
  },
  {
   "cell_type": "markdown",
   "metadata": {},
   "source": [
    "#### More sorting"
   ]
  },
  {
   "cell_type": "code",
   "execution_count": 236,
   "metadata": {},
   "outputs": [
    {
     "data": {
      "text/plain": [
       "['apples', 'bananas', 'oranges']"
      ]
     },
     "execution_count": 236,
     "metadata": {},
     "output_type": "execute_result"
    }
   ],
   "source": [
    "L = [\"oranges\", \"apples\", \"bananas\"]\n",
    "L.sort()\n",
    "L\n",
    "['apples', 'bananas', 'oranges']"
   ]
  },
  {
   "cell_type": "code",
   "execution_count": 237,
   "metadata": {},
   "outputs": [
    {
     "data": {
      "text/plain": [
       "['oranges', 'bananas', 'apples']"
      ]
     },
     "execution_count": 237,
     "metadata": {},
     "output_type": "execute_result"
    }
   ],
   "source": [
    "L = [\"oranges\", \"apples\", \"bananas\"]\n",
    "sorted(L, reverse = True)\n",
    "['oranges', 'bananas', 'apples']"
   ]
  },
  {
   "cell_type": "code",
   "execution_count": 238,
   "metadata": {},
   "outputs": [
    {
     "data": {
      "text/plain": [
       "['Bananas', 'apples', 'oranges']"
      ]
     },
     "execution_count": 238,
     "metadata": {},
     "output_type": "execute_result"
    }
   ],
   "source": [
    "L = [\"oranges\", \"apples\", \"Bananas\"]\n",
    "L.sort()\n",
    "L\n",
    "['Bananas', 'apples', 'oranges']"
   ]
  },
  {
   "cell_type": "code",
   "execution_count": 239,
   "metadata": {},
   "outputs": [
    {
     "data": {
      "text/plain": [
       "['apples', 'Bananas', 'oranges']"
      ]
     },
     "execution_count": 239,
     "metadata": {},
     "output_type": "execute_result"
    }
   ],
   "source": [
    "L = [\"oranges\", \"apples\", \"Bananas\"]\n",
    "L.sort(key=str.lower)\n",
    "L\n",
    "['apples', 'Bananas', 'oranges']"
   ]
  },
  {
   "cell_type": "code",
   "execution_count": 241,
   "metadata": {},
   "outputs": [
    {
     "data": {
      "text/plain": [
       "True"
      ]
     },
     "execution_count": 241,
     "metadata": {},
     "output_type": "execute_result"
    }
   ],
   "source": [
    "(2, 4) < (4, 1) \n",
    "True "
   ]
  },
  {
   "cell_type": "code",
   "execution_count": 242,
   "metadata": {},
   "outputs": [
    {
     "data": {
      "text/plain": [
       "True"
      ]
     },
     "execution_count": 242,
     "metadata": {},
     "output_type": "execute_result"
    }
   ],
   "source": [
    "(2, 4) < (2, 6)\n",
    "True"
   ]
  },
  {
   "cell_type": "code",
   "execution_count": 243,
   "metadata": {},
   "outputs": [
    {
     "data": {
      "text/plain": [
       "[(3, 3), (3, 10), (5, 4)]"
      ]
     },
     "execution_count": 243,
     "metadata": {},
     "output_type": "execute_result"
    }
   ],
   "source": [
    "sorted([(5, 4), (3, 3), (3, 10)])\n",
    "[(3, 3), (3, 10), (5, 4)]"
   ]
  },
  {
   "cell_type": "code",
   "execution_count": 255,
   "metadata": {},
   "outputs": [
    {
     "name": "stdout",
     "output_type": "stream",
     "text": [
      "[('Alice', 25), ('Bob', 20), ('Alex', 5)]\n"
     ]
    }
   ],
   "source": [
    "def custom_sort(t):\n",
    "    return t[1]\n",
    "\n",
    "L = [(\"Alice\", 25), (\"Bob\", 20), (\"Alex\", 5)]\n",
    "# L.sort(key=custom_sort)\n",
    "print(L)"
   ]
  },
  {
   "cell_type": "code",
   "execution_count": 25,
   "metadata": {},
   "outputs": [
    {
     "name": "stdout",
     "output_type": "stream",
     "text": [
      "[('Alex', 5), ('Bob', 20), ('Alice', 25)]\n"
     ]
    }
   ],
   "source": [
    "L = [(\"Alice\", 25), (\"Bob\", 20), (\"Alex\", 5)]\n",
    "L.sort(key=lambda x: x[1])\n",
    "print(L)"
   ]
  },
  {
   "cell_type": "code",
   "execution_count": 265,
   "metadata": {},
   "outputs": [],
   "source": [
    "class User:\n",
    "    def __init__(self, name, age):\n",
    "        self.name = name\n",
    "        self.age = age"
   ]
  },
  {
   "cell_type": "code",
   "execution_count": 268,
   "metadata": {},
   "outputs": [],
   "source": [
    "Bob = User('Bob', 20)\n",
    "Alice = User('Alice', 30)\n",
    "Leo = User('Leo', 15)\n",
    "L = [Bob, Alice, Leo]"
   ]
  },
  {
   "cell_type": "code",
   "execution_count": 248,
   "metadata": {},
   "outputs": [
    {
     "name": "stdout",
     "output_type": "stream",
     "text": [
      "['Alice', 'Bob', 'Leo']\n"
     ]
    }
   ],
   "source": [
    "L.sort(key=lambda x: x.name)\n",
    "print([item.name for item in L])"
   ]
  },
  {
   "cell_type": "code",
   "execution_count": 249,
   "metadata": {},
   "outputs": [
    {
     "name": "stdout",
     "output_type": "stream",
     "text": [
      "['Leo', 'Bob', 'Alice']\n"
     ]
    }
   ],
   "source": [
    "L.sort(key=lambda x: x.age)\n",
    "print([item.name for item in L])"
   ]
  },
  {
   "cell_type": "code",
   "execution_count": 286,
   "metadata": {},
   "outputs": [
    {
     "name": "stdout",
     "output_type": "stream",
     "text": [
      "<__main__.User object at 0x11b53d2b0>\n",
      "<__main__.User object at 0x11b53d780>\n",
      "<__main__.User object at 0x11b53d0b8>\n"
     ]
    }
   ],
   "source": [
    "for item in L:\n",
    "    print(item)"
   ]
  },
  {
   "cell_type": "code",
   "execution_count": 289,
   "metadata": {},
   "outputs": [],
   "source": [
    "# format := (name, radius, density, distance from the Sun)\n",
    "\n",
    "# Radius: Radius at equator in kilometers\n",
    "# Density:\n",
    "\n",
    "planets = [\n",
    "    (\"Mercury\", 2440, 5.43, 0.395),\n",
    "    (\"Venus\", 6052, 5.24, 0.723),\n",
    "    (\"Earth\", 6378, 5.52, 1.000),\n",
    "    (\"Mars\", 3396, 3.93, 1.530),\n",
    "    (\"Jupiter\", 71492, 1.33, 5.210),\n",
    "    (\"Saturn\", 60268, 0.69, 9.551),\n",
    "    (\"Uranus\", 25559, 1.27, 19.213),\n",
    "    (\"Neptune\", 24764, 1.64, 30.070)\n",
    "]"
   ]
  },
  {
   "cell_type": "code",
   "execution_count": 302,
   "metadata": {},
   "outputs": [
    {
     "data": {
      "text/plain": [
       "[('Venus', 6052, 5.24, 0.723),\n",
       " ('Uranus', 25559, 1.27, 19.213),\n",
       " ('Saturn', 60268, 0.69, 9.551),\n",
       " ('Neptune', 24764, 1.64, 30.07),\n",
       " ('Mercury', 2440, 5.43, 0.395),\n",
       " ('Mars', 3396, 3.93, 1.53),\n",
       " ('Jupiter', 71492, 1.33, 5.21),\n",
       " ('Earth', 6378, 5.52, 1.0)]"
      ]
     },
     "execution_count": 302,
     "metadata": {},
     "output_type": "execute_result"
    }
   ],
   "source": [
    "# Can order planets by name, radius, density, or distance from the sun by changing the index number.\n",
    "\n",
    "planets.sort(key=lambda x: x[0],reverse=True)\n",
    "planets"
   ]
  },
  {
   "cell_type": "code",
   "execution_count": 304,
   "metadata": {},
   "outputs": [],
   "source": [
    "# can use variables to hold the lambdas\n",
    "\n",
    "name = lambda x: x[0]\n",
    "size = lambda x: x[1]\n",
    "density = lambda x: x[2]\n",
    "distance_from_sun = lambda x: x[3]"
   ]
  },
  {
   "cell_type": "code",
   "execution_count": 313,
   "metadata": {},
   "outputs": [
    {
     "data": {
      "text/plain": [
       "[('Earth', 6378, 5.52, 1.0),\n",
       " ('Mercury', 2440, 5.43, 0.395),\n",
       " ('Venus', 6052, 5.24, 0.723),\n",
       " ('Mars', 3396, 3.93, 1.53),\n",
       " ('Neptune', 24764, 1.64, 30.07),\n",
       " ('Jupiter', 71492, 1.33, 5.21),\n",
       " ('Uranus', 25559, 1.27, 19.213),\n",
       " ('Saturn', 60268, 0.69, 9.551)]"
      ]
     },
     "execution_count": 313,
     "metadata": {},
     "output_type": "execute_result"
    }
   ],
   "source": [
    "planets.sort(key=density, reverse=True)\n",
    "planets"
   ]
  },
  {
   "cell_type": "markdown",
   "metadata": {},
   "source": [
    "### Difference between sort and sorted.  Sort changes the list while sorted makes a copy of the list.  So if you want to change a tuple, the use sorted.  It leaves the original tuple unaltered and will give you a changed copy."
   ]
  },
  {
   "cell_type": "code",
   "execution_count": 314,
   "metadata": {},
   "outputs": [
    {
     "name": "stdout",
     "output_type": "stream",
     "text": [
      "Help on built-in function sorted in module builtins:\n",
      "\n",
      "sorted(iterable, /, *, key=None, reverse=False)\n",
      "    Return a new list containing all items from the iterable in ascending order.\n",
      "    \n",
      "    A custom key function can be supplied to customize the sort order, and the\n",
      "    reverse flag can be set to request the result in descending order.\n",
      "\n"
     ]
    }
   ],
   "source": [
    "help(sorted)"
   ]
  },
  {
   "cell_type": "code",
   "execution_count": 27,
   "metadata": {},
   "outputs": [],
   "source": [
    "earth_metals = ['Beryllium', 'Magnesium', 'Calcium', 'Strontium', 'Barium', 'Radium']\n",
    "\n",
    "sorted_earth_metals = sorted"
   ]
  },
  {
   "cell_type": "code",
   "execution_count": 28,
   "metadata": {},
   "outputs": [
    {
     "data": {
      "text/plain": [
       "['Beryllium', 'Magnesium', 'Calcium', 'Strontium', 'Barium', 'Radium']"
      ]
     },
     "execution_count": 28,
     "metadata": {},
     "output_type": "execute_result"
    }
   ],
   "source": [
    "earth_metals"
   ]
  },
  {
   "cell_type": "code",
   "execution_count": 29,
   "metadata": {
    "scrolled": true
   },
   "outputs": [
    {
     "data": {
      "text/plain": [
       "['Barium', 'Beryllium', 'Calcium', 'Magnesium', 'Radium', 'Strontium']"
      ]
     },
     "execution_count": 29,
     "metadata": {},
     "output_type": "execute_result"
    }
   ],
   "source": [
    "sorted(earth_metals)"
   ]
  },
  {
   "cell_type": "code",
   "execution_count": 323,
   "metadata": {},
   "outputs": [
    {
     "data": {
      "text/plain": [
       "['A', 'a', 'a', 'b', 'c', 'e', 'h', 'i', 'l', 'l', 'p', 't']"
      ]
     },
     "execution_count": 323,
     "metadata": {},
     "output_type": "execute_result"
    }
   ],
   "source": [
    "sorted(\"Alphabetical\")"
   ]
  },
  {
   "cell_type": "code",
   "execution_count": 324,
   "metadata": {},
   "outputs": [
    {
     "name": "stdout",
     "output_type": "stream",
     "text": [
      "Help on built-in function repr in module builtins:\n",
      "\n",
      "repr(obj, /)\n",
      "    Return the canonical string representation of the object.\n",
      "    \n",
      "    For many object types, including most builtins, eval(repr(obj)) == obj.\n",
      "\n"
     ]
    }
   ],
   "source": [
    "help(repr)"
   ]
  },
  {
   "cell_type": "code",
   "execution_count": 325,
   "metadata": {},
   "outputs": [
    {
     "name": "stdout",
     "output_type": "stream",
     "text": [
      "Help on class str in module builtins:\n",
      "\n",
      "class str(object)\n",
      " |  str(object='') -> str\n",
      " |  str(bytes_or_buffer[, encoding[, errors]]) -> str\n",
      " |  \n",
      " |  Create a new string object from the given object. If encoding or\n",
      " |  errors is specified, then the object must expose a data buffer\n",
      " |  that will be decoded using the given encoding and error handler.\n",
      " |  Otherwise, returns the result of object.__str__() (if defined)\n",
      " |  or repr(object).\n",
      " |  encoding defaults to sys.getdefaultencoding().\n",
      " |  errors defaults to 'strict'.\n",
      " |  \n",
      " |  Methods defined here:\n",
      " |  \n",
      " |  __add__(self, value, /)\n",
      " |      Return self+value.\n",
      " |  \n",
      " |  __contains__(self, key, /)\n",
      " |      Return key in self.\n",
      " |  \n",
      " |  __eq__(self, value, /)\n",
      " |      Return self==value.\n",
      " |  \n",
      " |  __format__(self, format_spec, /)\n",
      " |      Return a formatted version of the string as described by format_spec.\n",
      " |  \n",
      " |  __ge__(self, value, /)\n",
      " |      Return self>=value.\n",
      " |  \n",
      " |  __getattribute__(self, name, /)\n",
      " |      Return getattr(self, name).\n",
      " |  \n",
      " |  __getitem__(self, key, /)\n",
      " |      Return self[key].\n",
      " |  \n",
      " |  __getnewargs__(...)\n",
      " |  \n",
      " |  __gt__(self, value, /)\n",
      " |      Return self>value.\n",
      " |  \n",
      " |  __hash__(self, /)\n",
      " |      Return hash(self).\n",
      " |  \n",
      " |  __iter__(self, /)\n",
      " |      Implement iter(self).\n",
      " |  \n",
      " |  __le__(self, value, /)\n",
      " |      Return self<=value.\n",
      " |  \n",
      " |  __len__(self, /)\n",
      " |      Return len(self).\n",
      " |  \n",
      " |  __lt__(self, value, /)\n",
      " |      Return self<value.\n",
      " |  \n",
      " |  __mod__(self, value, /)\n",
      " |      Return self%value.\n",
      " |  \n",
      " |  __mul__(self, value, /)\n",
      " |      Return self*value.\n",
      " |  \n",
      " |  __ne__(self, value, /)\n",
      " |      Return self!=value.\n",
      " |  \n",
      " |  __repr__(self, /)\n",
      " |      Return repr(self).\n",
      " |  \n",
      " |  __rmod__(self, value, /)\n",
      " |      Return value%self.\n",
      " |  \n",
      " |  __rmul__(self, value, /)\n",
      " |      Return value*self.\n",
      " |  \n",
      " |  __sizeof__(self, /)\n",
      " |      Return the size of the string in memory, in bytes.\n",
      " |  \n",
      " |  __str__(self, /)\n",
      " |      Return str(self).\n",
      " |  \n",
      " |  capitalize(self, /)\n",
      " |      Return a capitalized version of the string.\n",
      " |      \n",
      " |      More specifically, make the first character have upper case and the rest lower\n",
      " |      case.\n",
      " |  \n",
      " |  casefold(self, /)\n",
      " |      Return a version of the string suitable for caseless comparisons.\n",
      " |  \n",
      " |  center(self, width, fillchar=' ', /)\n",
      " |      Return a centered string of length width.\n",
      " |      \n",
      " |      Padding is done using the specified fill character (default is a space).\n",
      " |  \n",
      " |  count(...)\n",
      " |      S.count(sub[, start[, end]]) -> int\n",
      " |      \n",
      " |      Return the number of non-overlapping occurrences of substring sub in\n",
      " |      string S[start:end].  Optional arguments start and end are\n",
      " |      interpreted as in slice notation.\n",
      " |  \n",
      " |  encode(self, /, encoding='utf-8', errors='strict')\n",
      " |      Encode the string using the codec registered for encoding.\n",
      " |      \n",
      " |      encoding\n",
      " |        The encoding in which to encode the string.\n",
      " |      errors\n",
      " |        The error handling scheme to use for encoding errors.\n",
      " |        The default is 'strict' meaning that encoding errors raise a\n",
      " |        UnicodeEncodeError.  Other possible values are 'ignore', 'replace' and\n",
      " |        'xmlcharrefreplace' as well as any other name registered with\n",
      " |        codecs.register_error that can handle UnicodeEncodeErrors.\n",
      " |  \n",
      " |  endswith(...)\n",
      " |      S.endswith(suffix[, start[, end]]) -> bool\n",
      " |      \n",
      " |      Return True if S ends with the specified suffix, False otherwise.\n",
      " |      With optional start, test S beginning at that position.\n",
      " |      With optional end, stop comparing S at that position.\n",
      " |      suffix can also be a tuple of strings to try.\n",
      " |  \n",
      " |  expandtabs(self, /, tabsize=8)\n",
      " |      Return a copy where all tab characters are expanded using spaces.\n",
      " |      \n",
      " |      If tabsize is not given, a tab size of 8 characters is assumed.\n",
      " |  \n",
      " |  find(...)\n",
      " |      S.find(sub[, start[, end]]) -> int\n",
      " |      \n",
      " |      Return the lowest index in S where substring sub is found,\n",
      " |      such that sub is contained within S[start:end].  Optional\n",
      " |      arguments start and end are interpreted as in slice notation.\n",
      " |      \n",
      " |      Return -1 on failure.\n",
      " |  \n",
      " |  format(...)\n",
      " |      S.format(*args, **kwargs) -> str\n",
      " |      \n",
      " |      Return a formatted version of S, using substitutions from args and kwargs.\n",
      " |      The substitutions are identified by braces ('{' and '}').\n",
      " |  \n",
      " |  format_map(...)\n",
      " |      S.format_map(mapping) -> str\n",
      " |      \n",
      " |      Return a formatted version of S, using substitutions from mapping.\n",
      " |      The substitutions are identified by braces ('{' and '}').\n",
      " |  \n",
      " |  index(...)\n",
      " |      S.index(sub[, start[, end]]) -> int\n",
      " |      \n",
      " |      Return the lowest index in S where substring sub is found, \n",
      " |      such that sub is contained within S[start:end].  Optional\n",
      " |      arguments start and end are interpreted as in slice notation.\n",
      " |      \n",
      " |      Raises ValueError when the substring is not found.\n",
      " |  \n",
      " |  isalnum(self, /)\n",
      " |      Return True if the string is an alpha-numeric string, False otherwise.\n",
      " |      \n",
      " |      A string is alpha-numeric if all characters in the string are alpha-numeric and\n",
      " |      there is at least one character in the string.\n",
      " |  \n",
      " |  isalpha(self, /)\n",
      " |      Return True if the string is an alphabetic string, False otherwise.\n",
      " |      \n",
      " |      A string is alphabetic if all characters in the string are alphabetic and there\n",
      " |      is at least one character in the string.\n",
      " |  \n",
      " |  isascii(self, /)\n",
      " |      Return True if all characters in the string are ASCII, False otherwise.\n",
      " |      \n",
      " |      ASCII characters have code points in the range U+0000-U+007F.\n",
      " |      Empty string is ASCII too.\n",
      " |  \n",
      " |  isdecimal(self, /)\n",
      " |      Return True if the string is a decimal string, False otherwise.\n",
      " |      \n",
      " |      A string is a decimal string if all characters in the string are decimal and\n",
      " |      there is at least one character in the string.\n",
      " |  \n",
      " |  isdigit(self, /)\n",
      " |      Return True if the string is a digit string, False otherwise.\n",
      " |      \n",
      " |      A string is a digit string if all characters in the string are digits and there\n",
      " |      is at least one character in the string.\n",
      " |  \n",
      " |  isidentifier(self, /)\n",
      " |      Return True if the string is a valid Python identifier, False otherwise.\n",
      " |      \n",
      " |      Use keyword.iskeyword() to test for reserved identifiers such as \"def\" and\n",
      " |      \"class\".\n",
      " |  \n",
      " |  islower(self, /)\n",
      " |      Return True if the string is a lowercase string, False otherwise.\n",
      " |      \n",
      " |      A string is lowercase if all cased characters in the string are lowercase and\n",
      " |      there is at least one cased character in the string.\n",
      " |  \n",
      " |  isnumeric(self, /)\n",
      " |      Return True if the string is a numeric string, False otherwise.\n",
      " |      \n",
      " |      A string is numeric if all characters in the string are numeric and there is at\n",
      " |      least one character in the string.\n",
      " |  \n",
      " |  isprintable(self, /)\n",
      " |      Return True if the string is printable, False otherwise.\n",
      " |      \n",
      " |      A string is printable if all of its characters are considered printable in\n",
      " |      repr() or if it is empty.\n",
      " |  \n",
      " |  isspace(self, /)\n",
      " |      Return True if the string is a whitespace string, False otherwise.\n",
      " |      \n",
      " |      A string is whitespace if all characters in the string are whitespace and there\n",
      " |      is at least one character in the string.\n",
      " |  \n",
      " |  istitle(self, /)\n",
      " |      Return True if the string is a title-cased string, False otherwise.\n",
      " |      \n",
      " |      In a title-cased string, upper- and title-case characters may only\n",
      " |      follow uncased characters and lowercase characters only cased ones.\n",
      " |  \n",
      " |  isupper(self, /)\n",
      " |      Return True if the string is an uppercase string, False otherwise.\n",
      " |      \n",
      " |      A string is uppercase if all cased characters in the string are uppercase and\n",
      " |      there is at least one cased character in the string.\n",
      " |  \n",
      " |  join(self, iterable, /)\n",
      " |      Concatenate any number of strings.\n",
      " |      \n",
      " |      The string whose method is called is inserted in between each given string.\n",
      " |      The result is returned as a new string.\n",
      " |      \n",
      " |      Example: '.'.join(['ab', 'pq', 'rs']) -> 'ab.pq.rs'\n",
      " |  \n",
      " |  ljust(self, width, fillchar=' ', /)\n",
      " |      Return a left-justified string of length width.\n",
      " |      \n",
      " |      Padding is done using the specified fill character (default is a space).\n",
      " |  \n",
      " |  lower(self, /)\n",
      " |      Return a copy of the string converted to lowercase.\n",
      " |  \n",
      " |  lstrip(self, chars=None, /)\n",
      " |      Return a copy of the string with leading whitespace removed.\n",
      " |      \n",
      " |      If chars is given and not None, remove characters in chars instead.\n",
      " |  \n",
      " |  partition(self, sep, /)\n",
      " |      Partition the string into three parts using the given separator.\n",
      " |      \n",
      " |      This will search for the separator in the string.  If the separator is found,\n",
      " |      returns a 3-tuple containing the part before the separator, the separator\n",
      " |      itself, and the part after it.\n",
      " |      \n",
      " |      If the separator is not found, returns a 3-tuple containing the original string\n",
      " |      and two empty strings.\n",
      " |  \n",
      " |  replace(self, old, new, count=-1, /)\n",
      " |      Return a copy with all occurrences of substring old replaced by new.\n",
      " |      \n",
      " |        count\n",
      " |          Maximum number of occurrences to replace.\n",
      " |          -1 (the default value) means replace all occurrences.\n",
      " |      \n",
      " |      If the optional argument count is given, only the first count occurrences are\n",
      " |      replaced.\n",
      " |  \n",
      " |  rfind(...)\n",
      " |      S.rfind(sub[, start[, end]]) -> int\n",
      " |      \n",
      " |      Return the highest index in S where substring sub is found,\n",
      " |      such that sub is contained within S[start:end].  Optional\n",
      " |      arguments start and end are interpreted as in slice notation.\n",
      " |      \n",
      " |      Return -1 on failure.\n",
      " |  \n",
      " |  rindex(...)\n",
      " |      S.rindex(sub[, start[, end]]) -> int\n",
      " |      \n",
      " |      Return the highest index in S where substring sub is found,\n",
      " |      such that sub is contained within S[start:end].  Optional\n",
      " |      arguments start and end are interpreted as in slice notation.\n",
      " |      \n",
      " |      Raises ValueError when the substring is not found.\n",
      " |  \n",
      " |  rjust(self, width, fillchar=' ', /)\n",
      " |      Return a right-justified string of length width.\n",
      " |      \n",
      " |      Padding is done using the specified fill character (default is a space).\n",
      " |  \n",
      " |  rpartition(self, sep, /)\n",
      " |      Partition the string into three parts using the given separator.\n",
      " |      \n",
      " |      This will search for the separator in the string, starting at the end. If\n",
      " |      the separator is found, returns a 3-tuple containing the part before the\n",
      " |      separator, the separator itself, and the part after it.\n",
      " |      \n",
      " |      If the separator is not found, returns a 3-tuple containing two empty strings\n",
      " |      and the original string.\n",
      " |  \n",
      " |  rsplit(self, /, sep=None, maxsplit=-1)\n",
      " |      Return a list of the words in the string, using sep as the delimiter string.\n",
      " |      \n",
      " |        sep\n",
      " |          The delimiter according which to split the string.\n",
      " |          None (the default value) means split according to any whitespace,\n",
      " |          and discard empty strings from the result.\n",
      " |        maxsplit\n",
      " |          Maximum number of splits to do.\n",
      " |          -1 (the default value) means no limit.\n",
      " |      \n",
      " |      Splits are done starting at the end of the string and working to the front.\n",
      " |  \n",
      " |  rstrip(self, chars=None, /)\n",
      " |      Return a copy of the string with trailing whitespace removed.\n",
      " |      \n",
      " |      If chars is given and not None, remove characters in chars instead.\n",
      " |  \n",
      " |  split(self, /, sep=None, maxsplit=-1)\n",
      " |      Return a list of the words in the string, using sep as the delimiter string.\n",
      " |      \n",
      " |      sep\n",
      " |        The delimiter according which to split the string.\n",
      " |        None (the default value) means split according to any whitespace,\n",
      " |        and discard empty strings from the result.\n",
      " |      maxsplit\n",
      " |        Maximum number of splits to do.\n",
      " |        -1 (the default value) means no limit.\n",
      " |  \n",
      " |  splitlines(self, /, keepends=False)\n",
      " |      Return a list of the lines in the string, breaking at line boundaries.\n",
      " |      \n",
      " |      Line breaks are not included in the resulting list unless keepends is given and\n",
      " |      true.\n",
      " |  \n",
      " |  startswith(...)\n",
      " |      S.startswith(prefix[, start[, end]]) -> bool\n",
      " |      \n",
      " |      Return True if S starts with the specified prefix, False otherwise.\n",
      " |      With optional start, test S beginning at that position.\n",
      " |      With optional end, stop comparing S at that position.\n",
      " |      prefix can also be a tuple of strings to try.\n",
      " |  \n",
      " |  strip(self, chars=None, /)\n",
      " |      Return a copy of the string with leading and trailing whitespace remove.\n",
      " |      \n",
      " |      If chars is given and not None, remove characters in chars instead.\n",
      " |  \n",
      " |  swapcase(self, /)\n",
      " |      Convert uppercase characters to lowercase and lowercase characters to uppercase.\n",
      " |  \n",
      " |  title(self, /)\n",
      " |      Return a version of the string where each word is titlecased.\n",
      " |      \n",
      " |      More specifically, words start with uppercased characters and all remaining\n",
      " |      cased characters have lower case.\n",
      " |  \n",
      " |  translate(self, table, /)\n",
      " |      Replace each character in the string using the given translation table.\n",
      " |      \n",
      " |        table\n",
      " |          Translation table, which must be a mapping of Unicode ordinals to\n",
      " |          Unicode ordinals, strings, or None.\n",
      " |      \n",
      " |      The table must implement lookup/indexing via __getitem__, for instance a\n",
      " |      dictionary or list.  If this operation raises LookupError, the character is\n",
      " |      left untouched.  Characters mapped to None are deleted.\n",
      " |  \n",
      " |  upper(self, /)\n",
      " |      Return a copy of the string converted to uppercase.\n",
      " |  \n",
      " |  zfill(self, width, /)\n",
      " |      Pad a numeric string with zeros on the left, to fill a field of the given width.\n",
      " |      \n",
      " |      The string is never truncated.\n",
      " |  \n",
      " |  ----------------------------------------------------------------------\n",
      " |  Static methods defined here:\n",
      " |  \n",
      " |  __new__(*args, **kwargs) from builtins.type\n",
      " |      Create and return a new object.  See help(type) for accurate signature.\n",
      " |  \n",
      " |  maketrans(x, y=None, z=None, /)\n",
      " |      Return a translation table usable for str.translate().\n",
      " |      \n",
      " |      If there is only one argument, it must be a dictionary mapping Unicode\n",
      " |      ordinals (integers) or characters to Unicode ordinals, strings or None.\n",
      " |      Character keys will be then converted to ordinals.\n",
      " |      If there are two arguments, they must be strings of equal length, and\n",
      " |      in the resulting dictionary, each character in x will be mapped to the\n",
      " |      character at the same position in y. If there is a third argument, it\n",
      " |      must be a string, whose characters will be mapped to None in the result.\n",
      "\n"
     ]
    }
   ],
   "source": [
    "help(str)"
   ]
  },
  {
   "cell_type": "markdown",
   "metadata": {},
   "source": [
    "# Big O Notation and time complexity\n",
    "How does the runtime of this function grow as the size of the input grows?"
   ]
  },
  {
   "cell_type": "code",
   "execution_count": 2,
   "metadata": {},
   "outputs": [],
   "source": [
    "given_array = [1,4,3,2,5,7,6,9,8,10]"
   ]
  },
  {
   "cell_type": "code",
   "execution_count": 11,
   "metadata": {},
   "outputs": [],
   "source": [
    "def find_sum(given_array):\n",
    "    total = 0\n",
    "    for i in given_array:\n",
    "        total += i\n",
    "    return total"
   ]
  },
  {
   "cell_type": "code",
   "execution_count": 12,
   "metadata": {},
   "outputs": [
    {
     "data": {
      "text/plain": [
       "55"
      ]
     },
     "execution_count": 12,
     "metadata": {},
     "output_type": "execute_result"
    }
   ],
   "source": [
    "find_sum(given_array=given_array)"
   ]
  },
  {
   "cell_type": "markdown",
   "metadata": {},
   "source": [
    "## F Strings"
   ]
  },
  {
   "cell_type": "code",
   "execution_count": 1,
   "metadata": {},
   "outputs": [],
   "source": [
    "first_name = 'Jeff'\n",
    "last_name = 'Hutchins'"
   ]
  },
  {
   "cell_type": "code",
   "execution_count": 7,
   "metadata": {},
   "outputs": [
    {
     "data": {
      "text/plain": [
       "'My name is JEFF hutchins'"
      ]
     },
     "execution_count": 7,
     "metadata": {},
     "output_type": "execute_result"
    }
   ],
   "source": [
    "sentence = f'My name is {first_name.upper()} {last_name.lower()}'\n",
    "sentence"
   ]
  },
  {
   "cell_type": "code",
   "execution_count": 9,
   "metadata": {},
   "outputs": [],
   "source": [
    "person = {'name': 'Jeff', 'age': 36}"
   ]
  },
  {
   "cell_type": "code",
   "execution_count": 12,
   "metadata": {},
   "outputs": [
    {
     "data": {
      "text/plain": [
       "'My name is Jeff and I am 36'"
      ]
     },
     "execution_count": 12,
     "metadata": {},
     "output_type": "execute_result"
    }
   ],
   "source": [
    "sentence = f'My name is {person[\"name\"]} and I am {person[\"age\"]}'\n",
    "sentence"
   ]
  },
  {
   "cell_type": "code",
   "execution_count": 14,
   "metadata": {},
   "outputs": [
    {
     "data": {
      "text/plain": [
       "'4 times 11 is equal to 44'"
      ]
     },
     "execution_count": 14,
     "metadata": {},
     "output_type": "execute_result"
    }
   ],
   "source": [
    "calculation = f'4 times 11 is equal to {4*11}'\n",
    "calculation"
   ]
  },
  {
   "cell_type": "code",
   "execution_count": 17,
   "metadata": {},
   "outputs": [
    {
     "name": "stdout",
     "output_type": "stream",
     "text": [
      "The value is 0001\n",
      "The value is 0002\n",
      "The value is 0003\n",
      "The value is 0004\n",
      "The value is 0005\n",
      "The value is 0006\n",
      "The value is 0007\n",
      "The value is 0008\n",
      "The value is 0009\n",
      "The value is 0010\n"
     ]
    }
   ],
   "source": [
    "# zero padding in formatted string\n",
    "for n in range(1, 11):\n",
    "    sentence = f'The value is {n:04}'\n",
    "    print(sentence)"
   ]
  },
  {
   "cell_type": "code",
   "execution_count": 18,
   "metadata": {},
   "outputs": [
    {
     "name": "stdout",
     "output_type": "stream",
     "text": [
      "Pi is equal to 3.1416\n"
     ]
    }
   ],
   "source": [
    "# rounding number in formatted string\n",
    "pi = 3.14159265\n",
    "sentence = f'Pi is equal to {pi:.4f}'\n",
    "print(sentence)"
   ]
  },
  {
   "cell_type": "code",
   "execution_count": 19,
   "metadata": {},
   "outputs": [],
   "source": [
    "from datetime import datetime"
   ]
  },
  {
   "cell_type": "code",
   "execution_count": 23,
   "metadata": {},
   "outputs": [
    {
     "name": "stdout",
     "output_type": "stream",
     "text": [
      "Jenn has a birthday on January 01, 1990\n"
     ]
    }
   ],
   "source": [
    "# datetime formatting with formatted string\n",
    "birthday = datetime(1990, 1, 1)\n",
    "\n",
    "sentence = f'Jenn has a birthday on {birthday:%B %d, %Y}'\n",
    "print(sentence)"
   ]
  },
  {
   "cell_type": "code",
   "execution_count": 27,
   "metadata": {},
   "outputs": [
    {
     "data": {
      "text/plain": [
       "datetime.datetime"
      ]
     },
     "execution_count": 27,
     "metadata": {},
     "output_type": "execute_result"
    }
   ],
   "source": [
    "type(birthday)"
   ]
  },
  {
   "cell_type": "markdown",
   "metadata": {},
   "source": [
    "## Regular Expressions, Hurray!!"
   ]
  },
  {
   "cell_type": "code",
   "execution_count": 81,
   "metadata": {},
   "outputs": [],
   "source": [
    "import re"
   ]
  },
  {
   "cell_type": "markdown",
   "metadata": {},
   "source": [
    "re.finditer method shows all the matches and their locations\n",
    "\n",
    "re.findall method returns all the matches into a list\n",
    "\n",
    "\n"
   ]
  },
  {
   "cell_type": "code",
   "execution_count": 82,
   "metadata": {},
   "outputs": [],
   "source": [
    "text_to_search = '''\n",
    "abcdefghijklmnopqrstuvwxyz\n",
    "ABCDEFGHIJKLMNOPQRSTUVWXYZ\n",
    "1234567890\n",
    "\n",
    "Ha HaHa\n",
    "\n",
    "MetaCharacters (Need to be escaped):\n",
    ". ^ $ * + ? { } [ ] \\ | ( )\n",
    "\n",
    "coreyms.com\n",
    "\n",
    "321-555-4321\n",
    "123.555.1234\n",
    "123*555*1234\n",
    "800-555-1234\n",
    "900-555-1234\n",
    "\n",
    "\n",
    "Mr. Schafer\n",
    "Mr Smith\n",
    "Ms Davis\n",
    "Mrs. Robinson\n",
    "Mr. T\n",
    "\n",
    "cat\n",
    "mat\n",
    "pat\n",
    "bat\n",
    "\n",
    "'''"
   ]
  },
  {
   "cell_type": "code",
   "execution_count": 83,
   "metadata": {},
   "outputs": [],
   "source": [
    "sentence = 'Start a sentence and then bring it to an end'"
   ]
  },
  {
   "cell_type": "code",
   "execution_count": 84,
   "metadata": {},
   "outputs": [
    {
     "name": "stdout",
     "output_type": "stream",
     "text": [
      "\tTab\n"
     ]
    }
   ],
   "source": [
    "print('\\tTab')"
   ]
  },
  {
   "cell_type": "code",
   "execution_count": 85,
   "metadata": {},
   "outputs": [
    {
     "name": "stdout",
     "output_type": "stream",
     "text": [
      "\\tTab\n"
     ]
    }
   ],
   "source": [
    "print(r'\\tTab')"
   ]
  },
  {
   "cell_type": "code",
   "execution_count": 86,
   "metadata": {},
   "outputs": [
    {
     "name": "stdout",
     "output_type": "stream",
     "text": [
      "\tTab\n"
     ]
    }
   ],
   "source": [
    "print(f'\\tTab')"
   ]
  },
  {
   "cell_type": "code",
   "execution_count": 87,
   "metadata": {},
   "outputs": [
    {
     "data": {
      "text/plain": [
       "['1',\n",
       " '2',\n",
       " '3',\n",
       " '4',\n",
       " '5',\n",
       " '6',\n",
       " '7',\n",
       " '8',\n",
       " '9',\n",
       " '0',\n",
       " '3',\n",
       " '2',\n",
       " '1',\n",
       " '5',\n",
       " '5',\n",
       " '5',\n",
       " '4',\n",
       " '3',\n",
       " '2',\n",
       " '1',\n",
       " '1',\n",
       " '2',\n",
       " '3',\n",
       " '5',\n",
       " '5',\n",
       " '5',\n",
       " '1',\n",
       " '2',\n",
       " '3',\n",
       " '4',\n",
       " '1',\n",
       " '2',\n",
       " '3',\n",
       " '5',\n",
       " '5',\n",
       " '5',\n",
       " '1',\n",
       " '2',\n",
       " '3',\n",
       " '4',\n",
       " '8',\n",
       " '0',\n",
       " '0',\n",
       " '5',\n",
       " '5',\n",
       " '5',\n",
       " '1',\n",
       " '2',\n",
       " '3',\n",
       " '4',\n",
       " '9',\n",
       " '0',\n",
       " '0',\n",
       " '5',\n",
       " '5',\n",
       " '5',\n",
       " '1',\n",
       " '2',\n",
       " '3',\n",
       " '4']"
      ]
     },
     "execution_count": 87,
     "metadata": {},
     "output_type": "execute_result"
    }
   ],
   "source": [
    "re.findall('\\d', text_to_search)"
   ]
  },
  {
   "cell_type": "code",
   "execution_count": 88,
   "metadata": {},
   "outputs": [],
   "source": [
    "# also accomplishes the same task as below\n",
    "\n",
    "# matches = re.compile(r'\\d{3}.\\d{3}.\\d{4}').finditer(text_to_search)"
   ]
  },
  {
   "cell_type": "code",
   "execution_count": 89,
   "metadata": {},
   "outputs": [],
   "source": [
    "pattern = re.compile(r'M(r|s|rs)\\.?\\s[A-Z]\\w*')"
   ]
  },
  {
   "cell_type": "code",
   "execution_count": 90,
   "metadata": {},
   "outputs": [],
   "source": [
    "matches = pattern.finditer(text_to_search)"
   ]
  },
  {
   "cell_type": "code",
   "execution_count": 91,
   "metadata": {},
   "outputs": [
    {
     "name": "stdout",
     "output_type": "stream",
     "text": [
      "<re.Match object; span=(222, 233), match='Mr. Schafer'>\n",
      "<re.Match object; span=(234, 242), match='Mr Smith'>\n",
      "<re.Match object; span=(243, 251), match='Ms Davis'>\n",
      "<re.Match object; span=(252, 265), match='Mrs. Robinson'>\n",
      "<re.Match object; span=(266, 271), match='Mr. T'>\n"
     ]
    }
   ],
   "source": [
    "# print out all of the matches\n",
    "for match in matches:\n",
    "    print(match)"
   ]
  },
  {
   "cell_type": "code",
   "execution_count": 92,
   "metadata": {},
   "outputs": [
    {
     "name": "stdout",
     "output_type": "stream",
     "text": [
      "coreyms.com\n"
     ]
    }
   ],
   "source": [
    "# found 1 match of 'abc' and found it in our alphabet \n",
    "# on index (1,4)\n",
    "print(text_to_search[142:153])"
   ]
  },
  {
   "cell_type": "code",
   "execution_count": 93,
   "metadata": {},
   "outputs": [],
   "source": [
    "# anchors - match invisible positions before or after characters\n",
    "pattern = re.compile(r'[^b]at')"
   ]
  },
  {
   "cell_type": "code",
   "execution_count": 94,
   "metadata": {},
   "outputs": [],
   "source": [
    "matches = pattern.finditer(text_to_search)"
   ]
  },
  {
   "cell_type": "code",
   "execution_count": 95,
   "metadata": {},
   "outputs": [],
   "source": [
    "# [match for match in matches]"
   ]
  },
  {
   "cell_type": "code",
   "execution_count": 96,
   "metadata": {},
   "outputs": [
    {
     "name": "stdout",
     "output_type": "stream",
     "text": [
      "<re.Match object; span=(273, 276), match='cat'>\n",
      "<re.Match object; span=(277, 280), match='mat'>\n",
      "<re.Match object; span=(281, 284), match='pat'>\n"
     ]
    }
   ],
   "source": [
    "# print out all of the matches\n",
    "for match in matches:\n",
    "    print(match)"
   ]
  },
  {
   "cell_type": "code",
   "execution_count": 97,
   "metadata": {},
   "outputs": [
    {
     "name": "stdout",
     "output_type": "stream",
     "text": [
      "800-555-1234\n",
      "900-555-1234\n"
     ]
    }
   ],
   "source": [
    "print(text_to_search[194:206])\n",
    "print(text_to_search[207:219])"
   ]
  },
  {
   "cell_type": "code",
   "execution_count": 98,
   "metadata": {},
   "outputs": [],
   "source": [
    "# anchors - match invisible positions before or after characters\n",
    "pattern = re.compile(r'[89]00[-.]\\d\\d\\d[-.]\\d\\d\\d\\d')"
   ]
  },
  {
   "cell_type": "code",
   "execution_count": 99,
   "metadata": {},
   "outputs": [
    {
     "name": "stdout",
     "output_type": "stream",
     "text": [
      "<re.Match object; span=(102, 114), match='800-555-5669'>\n",
      "<re.Match object; span=(281, 293), match='900-555-9340'>\n",
      "<re.Match object; span=(467, 479), match='800-555-6771'>\n",
      "<re.Match object; span=(1091, 1103), match='900-555-3205'>\n",
      "<re.Match object; span=(1439, 1451), match='800-555-6089'>\n",
      "<re.Match object; span=(1790, 1802), match='800-555-7100'>\n",
      "<re.Match object; span=(2051, 2063), match='900-555-5118'>\n",
      "<re.Match object; span=(2826, 2838), match='900-555-5428'>\n",
      "<re.Match object; span=(3284, 3296), match='800-555-8810'>\n",
      "<re.Match object; span=(3971, 3983), match='900-555-9598'>\n",
      "<re.Match object; span=(4945, 4957), match='800-555-2420'>\n",
      "<re.Match object; span=(5566, 5578), match='900-555-3567'>\n",
      "<re.Match object; span=(6189, 6201), match='800-555-3216'>\n",
      "<re.Match object; span=(6889, 6901), match='900-555-7755'>\n",
      "<re.Match object; span=(7864, 7876), match='800-555-1372'>\n",
      "<re.Match object; span=(8741, 8753), match='900-555-6426'>\n"
     ]
    }
   ],
   "source": [
    "# open a txt file and read out all the phone numbers\n",
    "with open('data.txt', 'r', encoding = 'utf-8') as f:\n",
    "    contents = f.read()\n",
    "    \n",
    "    matches = pattern.finditer(contents)\n",
    "    \n",
    "    # print out all of the matches\n",
    "    for match in matches:\n",
    "        print(match)"
   ]
  },
  {
   "cell_type": "code",
   "execution_count": 100,
   "metadata": {},
   "outputs": [
    {
     "name": "stdout",
     "output_type": "stream",
     "text": [
      "Dave Martin\n",
      "615-555-7164\n",
      "173 Main St., Springfield RI 55924\n",
      "davemartin@bogusemail.com\n",
      "\n",
      "Charles Harris\n",
      "800-555-5669\n",
      "969 High St., Atlantis VA 34075\n",
      "charlesharris@bogusemail.com\n",
      "\n",
      "Eric Williams\n",
      "560-555-5153\n",
      "806 1st St., Faketown AK 86847\n",
      "laurawilliams@bogusemail.com\n",
      "\n",
      "Corey Jefferson\n",
      "900-555-9340\n",
      "826 Elm St., Epicburg NE 10671\n",
      "coreyjefferson@bogusemail.com\n",
      "\n",
      "Jennifer Martin-White\n",
      "714-555-7405\n",
      "212 Cedar St., Sunnydale CT 74983\n",
      "jenniferwhite@bogusemail.com\n",
      "\n",
      "Erick Davis\n",
      "800-555-6771\n",
      "519 Washington St., Olympus TN 32425\n",
      "tomdavis@bogusemail.com\n",
      "\n",
      "Neil Patterson\n",
      "783-555-4799\n",
      "625 Oak St., Dawnstar IL 61914\n",
      "neilpatterson@bogusemail.com\n",
      "\n",
      "Laura Jefferson\n",
      "516-555-4615\n",
      "890 Main St., Pythonville LA 29947\n",
      "laurajefferson@bogusemail.com\n",
      "\n",
      "Maria Johnson\n",
      "127-555-1867\n",
      "884 High St., Braavos‎ ME 43597\n",
      "mariajohnson@bogusemail.com\n",
      "\n",
      "Michael Arnold\n",
      "608-555-4938\n",
      "249 Elm St., Quahog OR 90938\n",
      "michaelarnold@bogusemail.com\n",
      "\n",
      "Michael Smith\n",
      "568-555-6051\n",
      "619 Park St., Winterfell VA 99000\n",
      "michaelsmith@bogusemail.com\n",
      "\n",
      "Erik Stuart\n",
      "292-555-1875\n",
      "220 Cedar St., Lakeview NY 87282\n",
      "robertstuart@bogusemail.com\n",
      "\n",
      "Laura Martin\n",
      "900-555-3205\n",
      "391 High St., Smalltown WY 28362\n",
      "lauramartin@bogusemail.com\n",
      "\n",
      "Barbara Martin\n",
      "614-555-1166\n",
      "121 Hill St., Braavos‎ UT 92474\n",
      "barbaramartin@bogusemail.com\n",
      "\n",
      "Linda Jackson\n",
      "530-555-2676\n",
      "433 Elm St., Westworld TX 61967\n",
      "lindajackson@bogusemail.com\n",
      "\n",
      "Eric Miller\n",
      "470-555-2750\n",
      "838 Main St., Balmora MT 56526\n",
      "stevemiller@bogusemail.com\n",
      "\n",
      "Dave Arnold\n",
      "800-555-6089\n",
      "732 High St., Valyria KY 97152\n",
      "davearnold@bogusemail.com\n",
      "\n",
      "Jennifer Jacobs\n",
      "880-555-8319\n",
      "217 High St., Old-town IA 82767\n",
      "jenniferjacobs@bogusemail.com\n",
      "\n",
      "Neil Wilson\n",
      "777-555-8378\n",
      "191 Main St., Mordor IL 72160\n",
      "neilwilson@bogusemail.com\n",
      "\n",
      "Kurt Jackson\n",
      "998-555-7385\n",
      "607 Washington St., Blackwater NH 97183\n",
      "kurtjackson@bogusemail.com\n",
      "\n",
      "Mary Jacobs\n",
      "800-555-7100\n",
      "478 Oak St., Bedrock IA 58176\n",
      "maryjacobs@bogusemail.com\n",
      "\n",
      "Michael White\n",
      "903-555-8277\n",
      "906 Elm St., Mordor TX 89212\n",
      "michaelwhite@bogusemail.com\n",
      "\n",
      "Jennifer Jenkins\n",
      "196-555-5674\n",
      "949 Main St., Smalltown SC 96962\n",
      "jenniferjenkins@bogusemail.com\n",
      "\n",
      "Sam Wright\n",
      "900-555-5118\n",
      "835 Pearl St., Smalltown ND 77737\n",
      "samwright@bogusemail.com\n",
      "\n",
      "John Davis\n",
      "905-555-1630\n",
      "451 Lake St., Bedrock GA 34615\n",
      "johndavis@bogusemail.com\n",
      "\n",
      "Eric Davis\n",
      "203-555-3475\n",
      "419 Lake St., Balmora OR 30826\n",
      "neildavis@bogusemail.com\n",
      "\n",
      "Laura Jackson\n",
      "884-555-8444\n",
      "443 Maple St., Quahog MS 29348\n",
      "laurajackson@bogusemail.com\n",
      "\n",
      "John Williams\n",
      "904-555-8559\n",
      "756 Hill St., Valyria KY 94854\n",
      "johnwilliams@bogusemail.com\n",
      "\n",
      "Michael Martin\n",
      "889-555-7393\n",
      "216 High St., Olympus NV 21888\n",
      "michaelmartin@bogusemail.com\n",
      "\n",
      "Maggie Brown\n",
      "195-555-2405\n",
      "806 Lake St., Lakeview MD 59348\n",
      "maggiebrown@bogusemail.com\n",
      "\n",
      "Erik Wilson\n",
      "321-555-9053\n",
      "354 Hill St., Mordor FL 74122\n",
      "kurtwilson@bogusemail.com\n",
      "\n",
      "Elizabeth Arnold\n",
      "133-555-1711\n",
      "805 Maple St., Winterfell NV 99431\n",
      "elizabetharnold@bogusemail.com\n",
      "\n",
      "Jane Martin\n",
      "900-555-5428\n",
      "418 Park St., Metropolis ID 16576\n",
      "janemartin@bogusemail.com\n",
      "\n",
      "Travis Johnson\n",
      "760-555-7147\n",
      "749 Washington St., Braavos‎ SD 25668\n",
      "travisjohnson@bogusemail.com\n",
      "\n",
      "Laura Jefferson\n",
      "391-555-6621\n",
      "122 High St., Metropolis ME 29540\n",
      "laurajefferson@bogusemail.com\n",
      "\n",
      "Tom Williams\n",
      "932-555-7724\n",
      "610 High St., Old-town FL 60758\n",
      "tomwilliams@bogusemail.com\n",
      "\n",
      "Jennifer Taylor\n",
      "609-555-7908\n",
      "332 Main St., Pythonville OH 78172\n",
      "jennifertaylor@bogusemail.com\n",
      "\n",
      "Erick Wright\n",
      "800-555-8810\n",
      "858 Hill St., Blackwater NC 79714\n",
      "jenniferwright@bogusemail.com\n",
      "\n",
      "Steve Doe\n",
      "149-555-7657\n",
      "441 Elm St., Atlantis MS 87195\n",
      "stevedoe@bogusemail.com\n",
      "\n",
      "Kurt Davis\n",
      "130-555-9709\n",
      "404 Oak St., Atlantis ND 85386\n",
      "kurtdavis@bogusemail.com\n",
      "\n",
      "Corey Harris\n",
      "143-555-9295\n",
      "286 Pearl St., Vice City TX 57112\n",
      "coreyharris@bogusemail.com\n",
      "\n",
      "Nicole Taylor\n",
      "903-555-9878\n",
      "465 Hill St., Old-town LA 64102\n",
      "nicoletaylor@bogusemail.com\n",
      "\n",
      "Elizabeth Davis\n",
      "574-555-3194\n",
      "151 Lake St., Eerie SD 17880\n",
      "elizabethdavis@bogusemail.com\n",
      "\n",
      "Maggie Jenkins\n",
      "496-555-7533\n",
      "504 Lake St., Gotham PA 46692\n",
      "maggiejenkins@bogusemail.com\n",
      "\n",
      "Linda Davis\n",
      "210-555-3757\n",
      "201 Pine St., Vice City AR 78455\n",
      "lindadavis@bogusemail.com\n",
      "\n",
      "Dave Moore\n",
      "900-555-9598\n",
      "251 Pine St., Old-town OK 29087\n",
      "davemoore@bogusemail.com\n",
      "\n",
      "Linda Jenkins\n",
      "866-555-9844\n",
      "117 High St., Bedrock NE 11899\n",
      "lindajenkins@bogusemail.com\n",
      "\n",
      "Eric White\n",
      "669-555-7159\n",
      "650 Oak St., Smalltown TN 43281\n",
      "samwhite@bogusemail.com\n",
      "\n",
      "Laura Robinson\n",
      "152-555-7417\n",
      "377 Pine St., Valyria NC 78036\n",
      "laurarobinson@bogusemail.com\n",
      "\n",
      "Charles Patterson\n",
      "893-555-9832\n",
      "416 Pearl St., Valyria AK 62260\n",
      "charlespatterson@bogusemail.com\n",
      "\n",
      "Joe Jackson\n",
      "217-555-7123\n",
      "683 Cedar St., South Park KS 66724\n",
      "joejackson@bogusemail.com\n",
      "\n",
      "Michael Johnson\n",
      "786-555-6544\n",
      "288 Hill St., Smalltown AZ 18586\n",
      "michaeljohnson@bogusemail.com\n",
      "\n",
      "Corey Miller\n",
      "780-555-2574\n",
      "286 High St., Springfield IA 16272\n",
      "coreymiller@bogusemail.com\n",
      "\n",
      "James Moore\n",
      "926-555-8735\n",
      "278 Main St., Gotham KY 89569\n",
      "jamesmoore@bogusemail.com\n",
      "\n",
      "Jennifer Stuart\n",
      "895-555-3539\n",
      "766 Hill St., King's Landing GA 54999\n",
      "jenniferstuart@bogusemail.com\n",
      "\n",
      "Charles Martin\n",
      "874-555-3949\n",
      "775 High St., Faketown PA 89260\n",
      "charlesmartin@bogusemail.com\n",
      "\n",
      "Eric Wilks\n",
      "800-555-2420\n",
      "885 Main St., Blackwater OH 61275\n",
      "joewilks@bogusemail.com\n",
      "\n",
      "Elizabeth Arnold\n",
      "936-555-6340\n",
      "528 Hill St., Atlantis NH 88289\n",
      "elizabetharnold@bogusemail.com\n",
      "\n",
      "John Miller\n",
      "372-555-9809\n",
      "117 Cedar St., Thundera NM 75205\n",
      "johnmiller@bogusemail.com\n",
      "\n",
      "Corey Jackson\n",
      "890-555-5618\n",
      "115 Oak St., Gotham UT 36433\n",
      "coreyjackson@bogusemail.com\n",
      "\n",
      "Sam Thomas\n",
      "670-555-3005\n",
      "743 Lake St., Springfield MS 25473\n",
      "samthomas@bogusemail.com\n",
      "\n",
      "Patricia Thomas\n",
      "509-555-5997\n",
      "381 Hill St., Blackwater CT 30958\n",
      "patriciathomas@bogusemail.com\n",
      "\n",
      "Jennifer Davis\n",
      "721-555-5632\n",
      "125 Main St., Smalltown MT 62155\n",
      "jenniferdavis@bogusemail.com\n",
      "\n",
      "Patricia Brown\n",
      "900-555-3567\n",
      "292 Hill St., Gotham WV 57680\n",
      "patriciabrown@bogusemail.com\n",
      "\n",
      "Barbara Williams\n",
      "147-555-6830\n",
      "514 Park St., Balmora NV 55462\n",
      "barbarawilliams@bogusemail.com\n",
      "\n",
      "James Taylor\n",
      "582-555-3426\n",
      "776 Hill St., Dawnstar MA 51312\n",
      "jamestaylor@bogusemail.com\n",
      "\n",
      "Eric Harris\n",
      "400-555-1706\n",
      "421 Elm St., Smalltown NV 72025\n",
      "barbaraharris@bogusemail.com\n",
      "\n",
      "Travis Anderson\n",
      "525-555-1793\n",
      "937 Cedar St., Thundera WA 78862\n",
      "travisanderson@bogusemail.com\n",
      "\n",
      "Sam Robinson\n",
      "317-555-6700\n",
      "417 Pine St., Lakeview MD 13147\n",
      "samrobinson@bogusemail.com\n",
      "\n",
      "Steve Robinson\n",
      "974-555-8301\n",
      "478 Park St., Springfield NM 92369\n",
      "steverobinson@bogusemail.com\n",
      "\n",
      "Mary Wilson\n",
      "800-555-3216\n",
      "708 Maple St., Braavos‎ UT 29551\n",
      "marywilson@bogusemail.com\n",
      "\n",
      "Sam Wilson\n",
      "746-555-4094\n",
      "557 Pearl St., Westworld KS 23225\n",
      "samwilson@bogusemail.com\n",
      "\n",
      "Charles Jones\n",
      "922-555-1773\n",
      "855 Hill St., Olympus HI 81427\n",
      "charlesjones@bogusemail.com\n",
      "\n",
      "Laura Brown\n",
      "711-555-4427\n",
      "980 Maple St., Smalltown MO 96421\n",
      "laurabrown@bogusemail.com\n",
      "\n",
      "Tom Harris\n",
      "355-555-1872\n",
      "676 Hill St., Blackwater AR 96698\n",
      "tomharris@bogusemail.com\n",
      "\n",
      "Patricia Taylor\n",
      "852-555-6521\n",
      "588 Pine St., Olympus FL 98412\n",
      "patriciataylor@bogusemail.com\n",
      "\n",
      "Barbara Williams\n",
      "691-555-5773\n",
      "351 Elm St., Sunnydale GA 26245\n",
      "barbarawilliams@bogusemail.com\n",
      "\n",
      "Maggie Johnson\n",
      "332-555-5441\n",
      "948 Cedar St., Quahog DE 56449\n",
      "maggiejohnson@bogusemail.com\n",
      "\n",
      "Kurt Miller\n",
      "900-555-7755\n",
      "381 Hill St., Quahog AL 97503\n",
      "kurtmiller@bogusemail.com\n",
      "\n",
      "Neil Stuart\n",
      "379-555-3685\n",
      "496 Cedar St., Sunnydale RI 49113\n",
      "neilstuart@bogusemail.com\n",
      "\n",
      "Linda Patterson\n",
      "127-555-9682\n",
      "736 Cedar St., Lakeview KY 47472\n",
      "lindapatterson@bogusemail.com\n",
      "\n",
      "Charles Davis\n",
      "789-555-7032\n",
      "678 Lake St., Mordor MN 11845\n",
      "charlesdavis@bogusemail.com\n",
      "\n",
      "Jennifer Jefferson\n",
      "783-555-5135\n",
      "289 Park St., Sunnydale WA 74526\n",
      "jenniferjefferson@bogusemail.com\n",
      "\n",
      "Erick Taylor\n",
      "315-555-6507\n",
      "245 Washington St., Bedrock IL 26941\n",
      "coreytaylor@bogusemail.com\n",
      "\n",
      "Robert Wilks\n",
      "481-555-5835\n",
      "573 Elm St., Sunnydale IL 47182\n",
      "robertwilks@bogusemail.com\n",
      "\n",
      "Travis Jackson\n",
      "365-555-8287\n",
      "851 Lake St., Metropolis PA 22772\n",
      "travisjackson@bogusemail.com\n",
      "\n",
      "Travis Jackson\n",
      "911-555-7535\n",
      "489 Oak St., Atlantis HI 73725\n",
      "travisjackson@bogusemail.com\n",
      "\n",
      "Laura Wilks\n",
      "681-555-2460\n",
      "371 Pearl St., Smalltown SC 47466\n",
      "laurawilks@bogusemail.com\n",
      "\n",
      "Neil Arnold\n",
      "274-555-9800\n",
      "504 Oak St., Faketown PA 73860\n",
      "neilarnold@bogusemail.com\n",
      "\n",
      "Linda Johnson\n",
      "800-555-1372\n",
      "667 High St., Balmora IN 82473\n",
      "lindajohnson@bogusemail.com\n",
      "\n",
      "Jennifer Wilson\n",
      "300-555-7821\n",
      "266 Pine St., Westworld DC 58720\n",
      "jenniferwilson@bogusemail.com\n",
      "\n",
      "Nicole White\n",
      "133-555-3889\n",
      "276 High St., Braavos‎ IL 57764\n",
      "nicolewhite@bogusemail.com\n",
      "\n",
      "Maria Arnold\n",
      "705-555-6863\n",
      "491 Elm St., Metropolis PA 31836\n",
      "mariaarnold@bogusemail.com\n",
      "\n",
      "Jennifer Davis\n",
      "215-555-9449\n",
      "859 Cedar St., Old-town MT 31169\n",
      "jenniferdavis@bogusemail.com\n",
      "\n",
      "Mary Patterson\n",
      "988-555-6112\n",
      "956 Park St., Valyria CT 81541\n",
      "marypatterson@bogusemail.com\n",
      "\n",
      "Jane Stuart\n",
      "623-555-3006\n",
      "983 Oak St., Old-town RI 15445\n",
      "janestuart@bogusemail.com\n",
      "\n",
      "Robert Davis\n",
      "192-555-4977\n",
      "789 Maple St., Mordor IN 22215\n",
      "robertdavis@bogusemail.com\n",
      "\n",
      "James Taylor\n",
      "178-555-4899\n",
      "439 Hill St., Olympus NV 39308\n",
      "jamestaylor@bogusemail.com\n",
      "\n",
      "Eric Stuart\n",
      "952-555-3089\n",
      "777 High St., King's Landing AZ 16547\n",
      "johnstuart@bogusemail.com\n",
      "\n",
      "Charles Miller\n",
      "900-555-6426\n",
      "207 Washington St., Blackwater MA 24886\n",
      "charlesmiller@bogusemail.com\n"
     ]
    }
   ],
   "source": [
    "for group in contents.split('\\n'):\n",
    "    print(group)"
   ]
  },
  {
   "cell_type": "code",
   "execution_count": 101,
   "metadata": {},
   "outputs": [
    {
     "name": "stdout",
     "output_type": "stream",
     "text": [
      "<re.Match object; span=(1, 24), match='CoreyMSchafer@gmail.com'>\n",
      "<re.Match object; span=(25, 53), match='corey.schafer@university.edu'>\n",
      "<re.Match object; span=(54, 83), match='corey-321-schafer@my-work.net'>\n"
     ]
    }
   ],
   "source": [
    "import re\n",
    "\n",
    "emails = '''\n",
    "CoreyMSchafer@gmail.com\n",
    "corey.schafer@university.edu\n",
    "corey-321-schafer@my-work.net\n",
    "'''\n",
    "# we want to match everything before and after the @ symbol.  \n",
    "# character set with lower case a to lower case z \n",
    "# followed by an upper case A to lower case Z\n",
    "# to match 1 or more up until the @ sign use +\n",
    "# repeat for everything after the @ symbol\n",
    "\n",
    "# pattern = re.compile(r'[a-zA-Z0-9.-]+@[a-zA-Z-]+\\.(com|edu|net)')\n",
    "pattern = re.compile(r'[a-zA-Z0-9_.+-]+@[a-zA-Z0-9-]+\\.[a-zA-Z0-9-.]+')\n",
    "\n",
    "matches = pattern.finditer(emails)\n",
    "\n",
    "for match in matches:\n",
    "    print(match)"
   ]
  },
  {
   "cell_type": "code",
   "execution_count": 102,
   "metadata": {},
   "outputs": [
    {
     "name": "stdout",
     "output_type": "stream",
     "text": [
      "\n",
      "google.com\n",
      "coreyms.com\n",
      "youtube.com\n",
      "nasa.gov\n",
      "\n"
     ]
    }
   ],
   "source": [
    "import re\n",
    "\n",
    "urls = '''\n",
    "https://www.google.com\n",
    "http://coreyms.com\n",
    "https://youtube.com\n",
    "https://www.nasa.gov\n",
    "'''\n",
    "\n",
    "pattern = re.compile(r'https?://(www\\.)?(\\w+)(\\.\\w+)')\n",
    "\n",
    "# matches = pattern.finditer(urls)\n",
    "\n",
    "# sub method that is used to perform a substitution\n",
    "subbed_urls = pattern.sub(r'\\2\\3', urls)\n",
    "\n",
    "print(subbed_urls)\n",
    "\n",
    "# for match in matches:\n",
    "#     print(match[3])"
   ]
  },
  {
   "cell_type": "markdown",
   "metadata": {},
   "source": [
    "#### using re.findall method"
   ]
  },
  {
   "cell_type": "code",
   "execution_count": 103,
   "metadata": {},
   "outputs": [],
   "source": [
    "import re"
   ]
  },
  {
   "cell_type": "code",
   "execution_count": 104,
   "metadata": {},
   "outputs": [],
   "source": [
    "pattern = re.compile(r'\\d{3}.\\d{3}.\\d{4}')"
   ]
  },
  {
   "cell_type": "code",
   "execution_count": 105,
   "metadata": {},
   "outputs": [],
   "source": [
    "matches = pattern.findall(text_to_search)"
   ]
  },
  {
   "cell_type": "code",
   "execution_count": 106,
   "metadata": {},
   "outputs": [
    {
     "name": "stdout",
     "output_type": "stream",
     "text": [
      "321-555-4321\n",
      "123.555.1234\n",
      "123*555*1234\n",
      "800-555-1234\n",
      "900-555-1234\n"
     ]
    }
   ],
   "source": [
    "# print out all of the matches\n",
    "for match in matches:\n",
    "    print(match)"
   ]
  },
  {
   "cell_type": "markdown",
   "metadata": {},
   "source": [
    "#### using flags.  IGNORECASE, VERBOSE, MULTILINE, etc"
   ]
  },
  {
   "cell_type": "code",
   "execution_count": 107,
   "metadata": {},
   "outputs": [
    {
     "name": "stdout",
     "output_type": "stream",
     "text": [
      "<callable_iterator object at 0x122af8940>\n"
     ]
    }
   ],
   "source": [
    "sentence = 'Start a sentence and then bring it to an end'\n",
    "\n",
    "pattern = re.compile('start', re.I)\n",
    "\n",
    "matches = pattern.finditer(sentence)\n",
    "\n",
    "print(matches)"
   ]
  },
  {
   "cell_type": "markdown",
   "metadata": {},
   "source": [
    "### Recursive Funciton - Factorial"
   ]
  },
  {
   "cell_type": "code",
   "execution_count": 10,
   "metadata": {},
   "outputs": [],
   "source": [
    "def factorial(number):\n",
    "    if number < 0:\n",
    "        print('sorry, no negative factorials')\n",
    "    elif number == 0 or number ==1:\n",
    "        return 1\n",
    "    else:\n",
    "        return number * factorial(number-1)"
   ]
  },
  {
   "cell_type": "code",
   "execution_count": 9,
   "metadata": {},
   "outputs": [
    {
     "data": {
      "text/plain": [
       "40320"
      ]
     },
     "execution_count": 9,
     "metadata": {},
     "output_type": "execute_result"
    }
   ],
   "source": [
    "factorial(8)"
   ]
  },
  {
   "cell_type": "markdown",
   "metadata": {},
   "source": [
    "### Palendrome\n",
    "slicing and indexing a string [start:stop:step]"
   ]
  },
  {
   "cell_type": "code",
   "execution_count": 4,
   "metadata": {},
   "outputs": [],
   "source": [
    "s = 'stuff'"
   ]
  },
  {
   "cell_type": "code",
   "execution_count": 5,
   "metadata": {},
   "outputs": [
    {
     "data": {
      "text/plain": [
       "'ffuts'"
      ]
     },
     "execution_count": 5,
     "metadata": {},
     "output_type": "execute_result"
    }
   ],
   "source": [
    "s[::-1]"
   ]
  },
  {
   "cell_type": "code",
   "execution_count": 18,
   "metadata": {},
   "outputs": [],
   "source": [
    "def reverse(s):\n",
    "    return s[::-1]\n",
    "\n",
    "def is_palindrome(s):\n",
    "    rev = reverse(s)\n",
    "    \n",
    "    if s == rev:\n",
    "        return True\n",
    "    return False\n",
    "    \n",
    "# Can also do it without assigning reverse() function to variable 'rev'\n",
    "#     if (s == reverse(s)):\n",
    "#         return True\n",
    "#     return False"
   ]
  },
  {
   "cell_type": "code",
   "execution_count": 19,
   "metadata": {},
   "outputs": [
    {
     "data": {
      "text/plain": [
       "True"
      ]
     },
     "execution_count": 19,
     "metadata": {},
     "output_type": "execute_result"
    }
   ],
   "source": [
    "is_palindrome('malayalam')"
   ]
  },
  {
   "cell_type": "markdown",
   "metadata": {},
   "source": [
    "### Type Annotations"
   ]
  },
  {
   "cell_type": "markdown",
   "metadata": {},
   "source": [
    "Python allows us to specify the type of variables, function parameters, and function return values through type annotations.\n",
    "\n",
    "The python language itself will not enforce type annotations, but there are several third party tools that can use the type annotations to analyze your code and detect type mismatch issues.\n",
    "\n",
    "Apart from preventing code execution errors, type annotations are a great tool for communication about your function's api. Type annotations can clarify what should be passed in to a function and what is returned out of it.\n",
    "\n",
    "Let's take a look at an example of using type annotations:"
   ]
  },
  {
   "cell_type": "code",
   "execution_count": 2,
   "metadata": {},
   "outputs": [],
   "source": [
    "def add(x: int, y: int) -> int:\n",
    "    return x + y"
   ]
  },
  {
   "cell_type": "code",
   "execution_count": 4,
   "metadata": {},
   "outputs": [
    {
     "data": {
      "text/plain": [
       "int"
      ]
     },
     "execution_count": 4,
     "metadata": {},
     "output_type": "execute_result"
    }
   ],
   "source": [
    "type(add(2,3))"
   ]
  },
  {
   "cell_type": "markdown",
   "metadata": {},
   "source": [
    "Here the : int tells us the type of each function parameter, and -> int tells us the return type.\n",
    "\n",
    "More complex types can be expressed with the classes available in the typing module. For example, we can define a function that takes in a list of floats and returns all of them rounded to the nearest whole number:"
   ]
  },
  {
   "cell_type": "code",
   "execution_count": 5,
   "metadata": {},
   "outputs": [],
   "source": [
    "from typing import List\n",
    "\n",
    "def round_all(numbers: List[float]) -> List[int]:\n",
    "    return [round(n) for n in numbers]"
   ]
  },
  {
   "cell_type": "code",
   "execution_count": 10,
   "metadata": {
    "scrolled": true
   },
   "outputs": [
    {
     "data": {
      "text/plain": [
       "[1, 3, 4]"
      ]
     },
     "execution_count": 10,
     "metadata": {},
     "output_type": "execute_result"
    }
   ],
   "source": [
    "round_all([1.2, 3.3, 4.5])"
   ]
  },
  {
   "cell_type": "markdown",
   "metadata": {},
   "source": [
    "Here List specifies that the type of the numbers parameter will be a list, and with the square brakets, we can further specify the type of every element in the list."
   ]
  },
  {
   "cell_type": "code",
   "execution_count": null,
   "metadata": {},
   "outputs": [],
   "source": []
  }
 ],
 "metadata": {
  "kernelspec": {
   "display_name": "Python 3",
   "language": "python",
   "name": "python3"
  },
  "language_info": {
   "codemirror_mode": {
    "name": "ipython",
    "version": 3
   },
   "file_extension": ".py",
   "mimetype": "text/x-python",
   "name": "python",
   "nbconvert_exporter": "python",
   "pygments_lexer": "ipython3",
   "version": "3.7.3"
  }
 },
 "nbformat": 4,
 "nbformat_minor": 2
}
